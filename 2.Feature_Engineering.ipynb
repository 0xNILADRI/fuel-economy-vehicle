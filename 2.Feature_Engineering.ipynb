{
 "cells": [
  {
   "cell_type": "markdown",
   "metadata": {},
   "source": [
    "# Feature Engineering\n",
    "<hr>\n",
    "\n",
    "Feature engineering is the process of using domain knowledge to extract features from raw data via data mining techniques. These features can be used to improve the performance of machine learning algorithms. Feature engineering can be considered as applied machine learning itself.\n",
    "\n",
    "Source : <a href=\"https://en.wikipedia.org/wiki/Feature_engineering#:~:text=Feature%20engineering%20is%20the%20process,as%20applied%20machine%20learning%20itself.\\\">Wikipedia</a>\n",
    "\n",
    "\n",
    "### Process\n",
    "<hr>\n",
    "    \n",
    "The feature engineering process is :\n",
    "\n",
    "1. Brainstorming or testing features\n",
    "2. Deciding what features to create\n",
    "3. Creating features\n",
    "4. Checking how the features work with your model\n",
    "5. Improving your features if needed\n",
    "6. Go back to brainstorming/creating more features until the work is done"
   ]
  },
  {
   "cell_type": "code",
   "execution_count": 1,
   "metadata": {},
   "outputs": [],
   "source": [
    "# import necesary libraries\n",
    "\n",
    "import numpy as np\n",
    "import pandas as pd\n",
    "import matplotlib.pyplot as plt\n",
    "import seaborn as sns\n",
    "from IPython.display import display\n",
    "\n",
    "pd.options.display.max_columns = None\n",
    "%matplotlib inline"
   ]
  },
  {
   "cell_type": "code",
   "execution_count": 2,
   "metadata": {},
   "outputs": [],
   "source": [
    "# import data set\n",
    "\n",
    "df_2010 = pd.read_csv('data/data_2010_v1.csv')\n",
    "df_2020 = pd.read_csv('data/data_2020_v1.csv')"
   ]
  },
  {
   "cell_type": "code",
   "execution_count": 3,
   "metadata": {},
   "outputs": [],
   "source": [
    "def low_high(x):\n",
    "    '''\n",
    "    \n",
    "    Author : Niladri Ghosh\n",
    "    Email : niladri1406@gmail.com\n",
    "    \n",
    "    \n",
    "    A function that takes in a single argument, a dataframe , then creates a extra column with \n",
    "    data \"(column_name)_level\" which describes whether the values in the data are low , medium, \n",
    "    mod_high or high. The values are calculated against the whole columns statistical data. We \n",
    "    use .describe() method to fetch the values for min, 25%, 50% and so on. For instance creating \n",
    "    a column for cmb_mpg (combined miles per gallon) values, the higher the value the more is the \n",
    "    mileage level.\n",
    "    \n",
    "    level          cmb_mpg_level   \n",
    "    \n",
    "    min - 25%      low        \n",
    "    25% - 50%      medium    \n",
    "    50% - 75%      mod_high      \n",
    "    75% - max      high         \n",
    "    \n",
    "    \n",
    "    '''\n",
    "    \n",
    "    \n",
    "    for col in ['displ','cyl','air_pollution_score','city_mpg','hwy_mpg','cmb_mpg','greenhouse_gas_score']: \n",
    "        \n",
    "        bin_edges = [x[col].describe()['min']-0.00001, x[col].describe()['25%']-0.00002, x[col].describe()['50%']-0.00001, \n",
    "                     x[col].describe()['75%'], x[col].describe()['max']]\n",
    "        bin_names = ['low', 'medium', 'mod_high', 'high']\n",
    "        x[col+\"_level\"] = pd.cut(x[col], bin_edges, labels=bin_names)"
   ]
  },
  {
   "cell_type": "markdown",
   "metadata": {},
   "source": [
    "### Now we will create new rows of numerical data and divide it on the basis of scores if the values is between minimum value and 25% of the value -- it will be assigned low , similarly for values between 25% - 50% -- medium, 50% - 75% -- mod_high and 75% - Max -- high."
   ]
  },
  {
   "cell_type": "code",
   "execution_count": 4,
   "metadata": {},
   "outputs": [],
   "source": [
    "# data set 2010\n",
    "low_high(df_2010)"
   ]
  },
  {
   "cell_type": "code",
   "execution_count": 5,
   "metadata": {},
   "outputs": [],
   "source": [
    "# data set 2020\n",
    "low_high(df_2020)"
   ]
  },
  {
   "cell_type": "markdown",
   "metadata": {},
   "source": [
    "We need to perform __one hot encode__ on the newly created categorical data. By definition - \"*__One Hot Encode refers to \n",
    "    splitting the column which contains numerical categorical data to many columns depending on the number of categories \n",
    "    present in that column. Each column contains “0” or “1” corresponding to which column it has been placed__*\". For \n",
    "    example a column color has values red, blue and green (categorical data). Threfor the corresponding columns created \n",
    "    with values would be -\n",
    "    \n",
    "    color          color_red      color_blue    color_green\n",
    "    \n",
    "    red            1              0             0\n",
    "    blue           0              1             0\n",
    "    green          0              0             1\n",
    "    blue           0              1             0\n",
    "    red            1              0             0\n",
    "    blue           0              1             0\n",
    "    red            1              0             0\n",
    "    green          0              0             1"
   ]
  },
  {
   "cell_type": "code",
   "execution_count": 6,
   "metadata": {},
   "outputs": [],
   "source": [
    "# copy data set\n",
    "data_2010_cp = df_2010.copy()"
   ]
  },
  {
   "cell_type": "code",
   "execution_count": 7,
   "metadata": {},
   "outputs": [],
   "source": [
    "# rename columns\n",
    "data_2010_cp.rename(columns = lambda  x : x + \"_2010\", inplace=True)"
   ]
  },
  {
   "source": [
    "### Data 2010"
   ],
   "cell_type": "markdown",
   "metadata": {}
  },
  {
   "cell_type": "code",
   "execution_count": 8,
   "metadata": {},
   "outputs": [],
   "source": [
    "# copy data set\n",
    "df_2010_cp = data_2010_cp.copy()"
   ]
  },
  {
   "cell_type": "code",
   "execution_count": 9,
   "metadata": {},
   "outputs": [],
   "source": [
    "# since model columns has unique data we'll be dropping it for the time being\n",
    "df_2010_cp.drop('model_2010', axis=1, inplace=True)"
   ]
  },
  {
   "cell_type": "code",
   "execution_count": 10,
   "metadata": {},
   "outputs": [],
   "source": [
    "# create onehot / dummies\n",
    "df_2010_onehot = pd.get_dummies(df_2010_cp)"
   ]
  },
  {
   "cell_type": "code",
   "execution_count": 11,
   "metadata": {},
   "outputs": [],
   "source": [
    "# insert columns model\n",
    "df_2010_onehot.insert(0, 'model_2010' ,data_2010_cp['model_2010'])"
   ]
  },
  {
   "cell_type": "code",
   "execution_count": 12,
   "metadata": {},
   "outputs": [
    {
     "output_type": "execute_result",
     "data": {
      "text/plain": "  model_2010  displ_2010  cyl_2010  air_pollution_score_2010  city_mpg_2010  \\\n0  ACURA MDX         3.7       6.0                       7.0             16   \n1  ACURA MDX         3.7       6.0                       6.0             16   \n2  ACURA RDX         2.3       4.0                       7.0             19   \n3  ACURA RDX         2.3       4.0                       7.0             17   \n4  ACURA RDX         2.3       4.0                       6.0             19   \n\n   hwy_mpg_2010  cmb_mpg_2010  greenhouse_gas_score_2010  trans_2010_Auto-4  \\\n0            21            18                        4.0                  0   \n1            21            18                        4.0                  0   \n2            24            21                        5.0                  0   \n3            22            19                        4.0                  0   \n4            24            21                        5.0                  0   \n\n   trans_2010_Auto-5  trans_2010_Auto-6  trans_2010_Auto-7  \\\n0                  0                  0                  0   \n1                  0                  0                  0   \n2                  0                  0                  0   \n3                  0                  0                  0   \n4                  0                  0                  0   \n\n   trans_2010_AutoMan-5  trans_2010_AutoMan-6  trans_2010_AutoMan-7  \\\n0                     0                     0                     0   \n1                     0                     0                     0   \n2                     0                     0                     0   \n3                     0                     0                     0   \n4                     0                     0                     0   \n\n   trans_2010_CVT  trans_2010_Man-5  trans_2010_Man-6  trans_2010_Other-1  \\\n0               0                 0                 0                   0   \n1               0                 0                 0                   0   \n2               0                 0                 0                   0   \n3               0                 0                 0                   0   \n4               0                 0                 0                   0   \n\n   trans_2010_SemiAuto-4  trans_2010_SemiAuto-5  trans_2010_SemiAuto-6  \\\n0                      0                      0                      1   \n1                      0                      0                      1   \n2                      0                      1                      0   \n3                      0                      1                      0   \n4                      0                      1                      0   \n\n   trans_2010_SemiAuto-7  trans_2010_SemiAuto-8  drive_2010_2WD  \\\n0                      0                      0               0   \n1                      0                      0               0   \n2                      0                      0               1   \n3                      0                      0               0   \n4                      0                      0               1   \n\n   drive_2010_4WD  fuel_2010_CNG  fuel_2010_Diesel  fuel_2010_Ethanol  \\\n0               1              0                 0                  0   \n1               1              0                 0                  0   \n2               0              0                 0                  0   \n3               1              0                 0                  0   \n4               0              0                 0                  0   \n\n   fuel_2010_Gas  fuel_2010_Gasoline  cert_region_2010_CA  \\\n0              0                   1                    1   \n1              0                   1                    0   \n2              0                   1                    1   \n3              0                   1                    1   \n4              0                   1                    0   \n\n   cert_region_2010_FA  cert_region_2010_FC  veh_class_2010_SUV  \\\n0                    0                    0                   1   \n1                    1                    0                   1   \n2                    0                    0                   1   \n3                    0                    0                   1   \n4                    1                    0                   1   \n\n   veh_class_2010_large car  veh_class_2010_midsize car  \\\n0                         0                           0   \n1                         0                           0   \n2                         0                           0   \n3                         0                           0   \n4                         0                           0   \n\n   veh_class_2010_minivan  veh_class_2010_pickup  veh_class_2010_small car  \\\n0                       0                      0                         0   \n1                       0                      0                         0   \n2                       0                      0                         0   \n3                       0                      0                         0   \n4                       0                      0                         0   \n\n   veh_class_2010_special purpose  veh_class_2010_station wagon  \\\n0                               0                             0   \n1                               0                             0   \n2                               0                             0   \n3                               0                             0   \n4                               0                             0   \n\n   veh_class_2010_van  smartway_2010_no  smartway_2010_yes  \\\n0                   0                 1                  0   \n1                   0                 1                  0   \n2                   0                 1                  0   \n3                   0                 1                  0   \n4                   0                 1                  0   \n\n   displ_level_2010_low  displ_level_2010_medium  displ_level_2010_mod_high  \\\n0                     0                        0                          1   \n1                     0                        0                          1   \n2                     1                        0                          0   \n3                     1                        0                          0   \n4                     1                        0                          0   \n\n   displ_level_2010_high  cyl_level_2010_low  cyl_level_2010_medium  \\\n0                      0                   0                      0   \n1                      0                   0                      0   \n2                      0                   0                      1   \n3                      0                   0                      1   \n4                      0                   0                      1   \n\n   cyl_level_2010_mod_high  cyl_level_2010_high  \\\n0                        1                    0   \n1                        1                    0   \n2                        0                    0   \n3                        0                    0   \n4                        0                    0   \n\n   air_pollution_score_level_2010_low  air_pollution_score_level_2010_medium  \\\n0                                   0                                      0   \n1                                   0                                      0   \n2                                   0                                      0   \n3                                   0                                      0   \n4                                   0                                      0   \n\n   air_pollution_score_level_2010_mod_high  \\\n0                                        1   \n1                                        1   \n2                                        1   \n3                                        1   \n4                                        1   \n\n   air_pollution_score_level_2010_high  city_mpg_level_2010_low  \\\n0                                    0                        0   \n1                                    0                        0   \n2                                    0                        0   \n3                                    0                        0   \n4                                    0                        0   \n\n   city_mpg_level_2010_medium  city_mpg_level_2010_mod_high  \\\n0                           1                             0   \n1                           1                             0   \n2                           0                             1   \n3                           1                             0   \n4                           0                             1   \n\n   city_mpg_level_2010_high  hwy_mpg_level_2010_low  \\\n0                         0                       0   \n1                         0                       0   \n2                         0                       0   \n3                         0                       0   \n4                         0                       0   \n\n   hwy_mpg_level_2010_medium  hwy_mpg_level_2010_mod_high  \\\n0                          1                            0   \n1                          1                            0   \n2                          1                            0   \n3                          1                            0   \n4                          1                            0   \n\n   hwy_mpg_level_2010_high  cmb_mpg_level_2010_low  cmb_mpg_level_2010_medium  \\\n0                        0                       0                          1   \n1                        0                       0                          1   \n2                        0                       0                          0   \n3                        0                       0                          1   \n4                        0                       0                          0   \n\n   cmb_mpg_level_2010_mod_high  cmb_mpg_level_2010_high  \\\n0                            0                        0   \n1                            0                        0   \n2                            1                        0   \n3                            0                        0   \n4                            1                        0   \n\n   greenhouse_gas_score_level_2010_low  \\\n0                                    0   \n1                                    0   \n2                                    0   \n3                                    0   \n4                                    0   \n\n   greenhouse_gas_score_level_2010_medium  \\\n0                                       1   \n1                                       1   \n2                                       0   \n3                                       1   \n4                                       0   \n\n   greenhouse_gas_score_level_2010_mod_high  \\\n0                                         0   \n1                                         0   \n2                                         1   \n3                                         0   \n4                                         1   \n\n   greenhouse_gas_score_level_2010_high  \n0                                     0  \n1                                     0  \n2                                     0  \n3                                     0  \n4                                     0  ",
      "text/html": "<div>\n<style scoped>\n    .dataframe tbody tr th:only-of-type {\n        vertical-align: middle;\n    }\n\n    .dataframe tbody tr th {\n        vertical-align: top;\n    }\n\n    .dataframe thead th {\n        text-align: right;\n    }\n</style>\n<table border=\"1\" class=\"dataframe\">\n  <thead>\n    <tr style=\"text-align: right;\">\n      <th></th>\n      <th>model_2010</th>\n      <th>displ_2010</th>\n      <th>cyl_2010</th>\n      <th>air_pollution_score_2010</th>\n      <th>city_mpg_2010</th>\n      <th>hwy_mpg_2010</th>\n      <th>cmb_mpg_2010</th>\n      <th>greenhouse_gas_score_2010</th>\n      <th>trans_2010_Auto-4</th>\n      <th>trans_2010_Auto-5</th>\n      <th>trans_2010_Auto-6</th>\n      <th>trans_2010_Auto-7</th>\n      <th>trans_2010_AutoMan-5</th>\n      <th>trans_2010_AutoMan-6</th>\n      <th>trans_2010_AutoMan-7</th>\n      <th>trans_2010_CVT</th>\n      <th>trans_2010_Man-5</th>\n      <th>trans_2010_Man-6</th>\n      <th>trans_2010_Other-1</th>\n      <th>trans_2010_SemiAuto-4</th>\n      <th>trans_2010_SemiAuto-5</th>\n      <th>trans_2010_SemiAuto-6</th>\n      <th>trans_2010_SemiAuto-7</th>\n      <th>trans_2010_SemiAuto-8</th>\n      <th>drive_2010_2WD</th>\n      <th>drive_2010_4WD</th>\n      <th>fuel_2010_CNG</th>\n      <th>fuel_2010_Diesel</th>\n      <th>fuel_2010_Ethanol</th>\n      <th>fuel_2010_Gas</th>\n      <th>fuel_2010_Gasoline</th>\n      <th>cert_region_2010_CA</th>\n      <th>cert_region_2010_FA</th>\n      <th>cert_region_2010_FC</th>\n      <th>veh_class_2010_SUV</th>\n      <th>veh_class_2010_large car</th>\n      <th>veh_class_2010_midsize car</th>\n      <th>veh_class_2010_minivan</th>\n      <th>veh_class_2010_pickup</th>\n      <th>veh_class_2010_small car</th>\n      <th>veh_class_2010_special purpose</th>\n      <th>veh_class_2010_station wagon</th>\n      <th>veh_class_2010_van</th>\n      <th>smartway_2010_no</th>\n      <th>smartway_2010_yes</th>\n      <th>displ_level_2010_low</th>\n      <th>displ_level_2010_medium</th>\n      <th>displ_level_2010_mod_high</th>\n      <th>displ_level_2010_high</th>\n      <th>cyl_level_2010_low</th>\n      <th>cyl_level_2010_medium</th>\n      <th>cyl_level_2010_mod_high</th>\n      <th>cyl_level_2010_high</th>\n      <th>air_pollution_score_level_2010_low</th>\n      <th>air_pollution_score_level_2010_medium</th>\n      <th>air_pollution_score_level_2010_mod_high</th>\n      <th>air_pollution_score_level_2010_high</th>\n      <th>city_mpg_level_2010_low</th>\n      <th>city_mpg_level_2010_medium</th>\n      <th>city_mpg_level_2010_mod_high</th>\n      <th>city_mpg_level_2010_high</th>\n      <th>hwy_mpg_level_2010_low</th>\n      <th>hwy_mpg_level_2010_medium</th>\n      <th>hwy_mpg_level_2010_mod_high</th>\n      <th>hwy_mpg_level_2010_high</th>\n      <th>cmb_mpg_level_2010_low</th>\n      <th>cmb_mpg_level_2010_medium</th>\n      <th>cmb_mpg_level_2010_mod_high</th>\n      <th>cmb_mpg_level_2010_high</th>\n      <th>greenhouse_gas_score_level_2010_low</th>\n      <th>greenhouse_gas_score_level_2010_medium</th>\n      <th>greenhouse_gas_score_level_2010_mod_high</th>\n      <th>greenhouse_gas_score_level_2010_high</th>\n    </tr>\n  </thead>\n  <tbody>\n    <tr>\n      <th>0</th>\n      <td>ACURA MDX</td>\n      <td>3.7</td>\n      <td>6.0</td>\n      <td>7.0</td>\n      <td>16</td>\n      <td>21</td>\n      <td>18</td>\n      <td>4.0</td>\n      <td>0</td>\n      <td>0</td>\n      <td>0</td>\n      <td>0</td>\n      <td>0</td>\n      <td>0</td>\n      <td>0</td>\n      <td>0</td>\n      <td>0</td>\n      <td>0</td>\n      <td>0</td>\n      <td>0</td>\n      <td>0</td>\n      <td>1</td>\n      <td>0</td>\n      <td>0</td>\n      <td>0</td>\n      <td>1</td>\n      <td>0</td>\n      <td>0</td>\n      <td>0</td>\n      <td>0</td>\n      <td>1</td>\n      <td>1</td>\n      <td>0</td>\n      <td>0</td>\n      <td>1</td>\n      <td>0</td>\n      <td>0</td>\n      <td>0</td>\n      <td>0</td>\n      <td>0</td>\n      <td>0</td>\n      <td>0</td>\n      <td>0</td>\n      <td>1</td>\n      <td>0</td>\n      <td>0</td>\n      <td>0</td>\n      <td>1</td>\n      <td>0</td>\n      <td>0</td>\n      <td>0</td>\n      <td>1</td>\n      <td>0</td>\n      <td>0</td>\n      <td>0</td>\n      <td>1</td>\n      <td>0</td>\n      <td>0</td>\n      <td>1</td>\n      <td>0</td>\n      <td>0</td>\n      <td>0</td>\n      <td>1</td>\n      <td>0</td>\n      <td>0</td>\n      <td>0</td>\n      <td>1</td>\n      <td>0</td>\n      <td>0</td>\n      <td>0</td>\n      <td>1</td>\n      <td>0</td>\n      <td>0</td>\n    </tr>\n    <tr>\n      <th>1</th>\n      <td>ACURA MDX</td>\n      <td>3.7</td>\n      <td>6.0</td>\n      <td>6.0</td>\n      <td>16</td>\n      <td>21</td>\n      <td>18</td>\n      <td>4.0</td>\n      <td>0</td>\n      <td>0</td>\n      <td>0</td>\n      <td>0</td>\n      <td>0</td>\n      <td>0</td>\n      <td>0</td>\n      <td>0</td>\n      <td>0</td>\n      <td>0</td>\n      <td>0</td>\n      <td>0</td>\n      <td>0</td>\n      <td>1</td>\n      <td>0</td>\n      <td>0</td>\n      <td>0</td>\n      <td>1</td>\n      <td>0</td>\n      <td>0</td>\n      <td>0</td>\n      <td>0</td>\n      <td>1</td>\n      <td>0</td>\n      <td>1</td>\n      <td>0</td>\n      <td>1</td>\n      <td>0</td>\n      <td>0</td>\n      <td>0</td>\n      <td>0</td>\n      <td>0</td>\n      <td>0</td>\n      <td>0</td>\n      <td>0</td>\n      <td>1</td>\n      <td>0</td>\n      <td>0</td>\n      <td>0</td>\n      <td>1</td>\n      <td>0</td>\n      <td>0</td>\n      <td>0</td>\n      <td>1</td>\n      <td>0</td>\n      <td>0</td>\n      <td>0</td>\n      <td>1</td>\n      <td>0</td>\n      <td>0</td>\n      <td>1</td>\n      <td>0</td>\n      <td>0</td>\n      <td>0</td>\n      <td>1</td>\n      <td>0</td>\n      <td>0</td>\n      <td>0</td>\n      <td>1</td>\n      <td>0</td>\n      <td>0</td>\n      <td>0</td>\n      <td>1</td>\n      <td>0</td>\n      <td>0</td>\n    </tr>\n    <tr>\n      <th>2</th>\n      <td>ACURA RDX</td>\n      <td>2.3</td>\n      <td>4.0</td>\n      <td>7.0</td>\n      <td>19</td>\n      <td>24</td>\n      <td>21</td>\n      <td>5.0</td>\n      <td>0</td>\n      <td>0</td>\n      <td>0</td>\n      <td>0</td>\n      <td>0</td>\n      <td>0</td>\n      <td>0</td>\n      <td>0</td>\n      <td>0</td>\n      <td>0</td>\n      <td>0</td>\n      <td>0</td>\n      <td>1</td>\n      <td>0</td>\n      <td>0</td>\n      <td>0</td>\n      <td>1</td>\n      <td>0</td>\n      <td>0</td>\n      <td>0</td>\n      <td>0</td>\n      <td>0</td>\n      <td>1</td>\n      <td>1</td>\n      <td>0</td>\n      <td>0</td>\n      <td>1</td>\n      <td>0</td>\n      <td>0</td>\n      <td>0</td>\n      <td>0</td>\n      <td>0</td>\n      <td>0</td>\n      <td>0</td>\n      <td>0</td>\n      <td>1</td>\n      <td>0</td>\n      <td>1</td>\n      <td>0</td>\n      <td>0</td>\n      <td>0</td>\n      <td>0</td>\n      <td>1</td>\n      <td>0</td>\n      <td>0</td>\n      <td>0</td>\n      <td>0</td>\n      <td>1</td>\n      <td>0</td>\n      <td>0</td>\n      <td>0</td>\n      <td>1</td>\n      <td>0</td>\n      <td>0</td>\n      <td>1</td>\n      <td>0</td>\n      <td>0</td>\n      <td>0</td>\n      <td>0</td>\n      <td>1</td>\n      <td>0</td>\n      <td>0</td>\n      <td>0</td>\n      <td>1</td>\n      <td>0</td>\n    </tr>\n    <tr>\n      <th>3</th>\n      <td>ACURA RDX</td>\n      <td>2.3</td>\n      <td>4.0</td>\n      <td>7.0</td>\n      <td>17</td>\n      <td>22</td>\n      <td>19</td>\n      <td>4.0</td>\n      <td>0</td>\n      <td>0</td>\n      <td>0</td>\n      <td>0</td>\n      <td>0</td>\n      <td>0</td>\n      <td>0</td>\n      <td>0</td>\n      <td>0</td>\n      <td>0</td>\n      <td>0</td>\n      <td>0</td>\n      <td>1</td>\n      <td>0</td>\n      <td>0</td>\n      <td>0</td>\n      <td>0</td>\n      <td>1</td>\n      <td>0</td>\n      <td>0</td>\n      <td>0</td>\n      <td>0</td>\n      <td>1</td>\n      <td>1</td>\n      <td>0</td>\n      <td>0</td>\n      <td>1</td>\n      <td>0</td>\n      <td>0</td>\n      <td>0</td>\n      <td>0</td>\n      <td>0</td>\n      <td>0</td>\n      <td>0</td>\n      <td>0</td>\n      <td>1</td>\n      <td>0</td>\n      <td>1</td>\n      <td>0</td>\n      <td>0</td>\n      <td>0</td>\n      <td>0</td>\n      <td>1</td>\n      <td>0</td>\n      <td>0</td>\n      <td>0</td>\n      <td>0</td>\n      <td>1</td>\n      <td>0</td>\n      <td>0</td>\n      <td>1</td>\n      <td>0</td>\n      <td>0</td>\n      <td>0</td>\n      <td>1</td>\n      <td>0</td>\n      <td>0</td>\n      <td>0</td>\n      <td>1</td>\n      <td>0</td>\n      <td>0</td>\n      <td>0</td>\n      <td>1</td>\n      <td>0</td>\n      <td>0</td>\n    </tr>\n    <tr>\n      <th>4</th>\n      <td>ACURA RDX</td>\n      <td>2.3</td>\n      <td>4.0</td>\n      <td>6.0</td>\n      <td>19</td>\n      <td>24</td>\n      <td>21</td>\n      <td>5.0</td>\n      <td>0</td>\n      <td>0</td>\n      <td>0</td>\n      <td>0</td>\n      <td>0</td>\n      <td>0</td>\n      <td>0</td>\n      <td>0</td>\n      <td>0</td>\n      <td>0</td>\n      <td>0</td>\n      <td>0</td>\n      <td>1</td>\n      <td>0</td>\n      <td>0</td>\n      <td>0</td>\n      <td>1</td>\n      <td>0</td>\n      <td>0</td>\n      <td>0</td>\n      <td>0</td>\n      <td>0</td>\n      <td>1</td>\n      <td>0</td>\n      <td>1</td>\n      <td>0</td>\n      <td>1</td>\n      <td>0</td>\n      <td>0</td>\n      <td>0</td>\n      <td>0</td>\n      <td>0</td>\n      <td>0</td>\n      <td>0</td>\n      <td>0</td>\n      <td>1</td>\n      <td>0</td>\n      <td>1</td>\n      <td>0</td>\n      <td>0</td>\n      <td>0</td>\n      <td>0</td>\n      <td>1</td>\n      <td>0</td>\n      <td>0</td>\n      <td>0</td>\n      <td>0</td>\n      <td>1</td>\n      <td>0</td>\n      <td>0</td>\n      <td>0</td>\n      <td>1</td>\n      <td>0</td>\n      <td>0</td>\n      <td>1</td>\n      <td>0</td>\n      <td>0</td>\n      <td>0</td>\n      <td>0</td>\n      <td>1</td>\n      <td>0</td>\n      <td>0</td>\n      <td>0</td>\n      <td>1</td>\n      <td>0</td>\n    </tr>\n  </tbody>\n</table>\n</div>"
     },
     "metadata": {},
     "execution_count": 12
    }
   ],
   "source": [
    "df_2010_onehot.head(5)"
   ]
  },
  {
   "cell_type": "markdown",
   "metadata": {},
   "source": [
    "### Dataset 2020"
   ]
  },
  {
   "cell_type": "code",
   "execution_count": 13,
   "metadata": {},
   "outputs": [],
   "source": [
    "# create a copy of data\n",
    "data_2020_cp = df_2020.copy()"
   ]
  },
  {
   "cell_type": "code",
   "execution_count": 14,
   "metadata": {},
   "outputs": [],
   "source": [
    "# since model columns has unique data we'll be dropping it for the time being\n",
    "data_2020_cp.drop('model', axis=1, inplace=True)"
   ]
  },
  {
   "cell_type": "code",
   "execution_count": 15,
   "metadata": {},
   "outputs": [],
   "source": [
    "# create onehot / dummies\n",
    "df_2020_onehot = pd.get_dummies(data_2020_cp)"
   ]
  },
  {
   "cell_type": "code",
   "execution_count": 16,
   "metadata": {},
   "outputs": [],
   "source": [
    "# insert columns model\n",
    "df_2020_onehot.insert(0, 'model' ,df_2020['model'])"
   ]
  },
  {
   "cell_type": "code",
   "execution_count": 17,
   "metadata": {},
   "outputs": [
    {
     "output_type": "execute_result",
     "data": {
      "text/plain": "       model  displ  cyl  air_pollution_score  city_mpg  hwy_mpg  cmb_mpg  \\\n0  ACURA ILX    2.4  4.0                    3        24       34       28   \n1  ACURA ILX    2.4  4.0                    3        24       34       28   \n2  ACURA MDX    3.0  6.0                    3        26       27       27   \n3  ACURA MDX    3.0  6.0                    3        26       27       27   \n4  ACURA MDX    3.5  6.0                    3        20       27       23   \n\n   greenhouse_gas_score  trans_AMS-6  trans_AMS-7  trans_AMS-8  trans_AMS-9  \\\n0                     6            0            0            1            0   \n1                     6            0            0            1            0   \n2                     6            0            1            0            0   \n3                     6            0            1            0            0   \n4                     5            0            0            0            0   \n\n   trans_Auto-1  trans_Auto-10  trans_Auto-4  trans_Auto-6  trans_Auto-7  \\\n0             0              0             0             0             0   \n1             0              0             0             0             0   \n2             0              0             0             0             0   \n3             0              0             0             0             0   \n4             0              0             0             0             0   \n\n   trans_Auto-8  trans_Auto-9  trans_AutoMan-6  trans_AutoMan-7  \\\n0             0             0                0                0   \n1             0             0                0                0   \n2             0             0                0                0   \n3             0             0                0                0   \n4             0             0                0                0   \n\n   trans_AutoMan-8  trans_CVT  trans_Man-5  trans_Man-6  trans_Man-7  \\\n0                0          0            0            0            0   \n1                0          0            0            0            0   \n2                0          0            0            0            0   \n3                0          0            0            0            0   \n4                0          0            0            0            0   \n\n   trans_SCV-10  trans_SCV-6  trans_SCV-7  trans_SCV-8  trans_SemiAuto-10  \\\n0             0            0            0            0                  0   \n1             0            0            0            0                  0   \n2             0            0            0            0                  0   \n3             0            0            0            0                  0   \n4             0            0            0            0                  0   \n\n   trans_SemiAuto-5  trans_SemiAuto-6  trans_SemiAuto-7  trans_SemiAuto-8  \\\n0                 0                 0                 0                 0   \n1                 0                 0                 0                 0   \n2                 0                 0                 0                 0   \n3                 0                 0                 0                 0   \n4                 0                 0                 0                 0   \n\n   trans_SemiAuto-9  drive_2WD  drive_4WD  fuel_Diesel  fuel_Electricity  \\\n0                 0          1          0            0                 0   \n1                 0          1          0            0                 0   \n2                 0          0          1            0                 0   \n3                 0          0          1            0                 0   \n4                 1          1          0            0                 0   \n\n   fuel_Ethanol  fuel_Gas  fuel_Gasoline  cert_region_CA  cert_region_FA  \\\n0             0         0              1               1               0   \n1             0         0              1               0               1   \n2             0         0              1               1               0   \n3             0         0              1               0               1   \n4             0         0              1               1               0   \n\n   veh_class_large car  veh_class_midsize car  veh_class_minivan  \\\n0                    0                      0                  0   \n1                    0                      0                  0   \n2                    0                      0                  0   \n3                    0                      0                  0   \n4                    0                      0                  0   \n\n   veh_class_pickup  veh_class_small SUV  veh_class_small car  \\\n0                 0                    0                    1   \n1                 0                    0                    1   \n2                 0                    1                    0   \n3                 0                    1                    0   \n4                 0                    1                    0   \n\n   veh_class_special purpose  veh_class_standard SUV  veh_class_station wagon  \\\n0                          0                       0                        0   \n1                          0                       0                        0   \n2                          0                       0                        0   \n3                          0                       0                        0   \n4                          0                       0                        0   \n\n   veh_class_van  smartway_Elite  smartway_No  smartway_Yes  displ_level_low  \\\n0              0               0            1             0                0   \n1              0               0            1             0                0   \n2              0               0            1             0                0   \n3              0               0            1             0                0   \n4              0               0            1             0                0   \n\n   displ_level_medium  displ_level_mod_high  displ_level_high  cyl_level_low  \\\n0                   1                     0                 0              0   \n1                   1                     0                 0              0   \n2                   0                     1                 0              0   \n3                   0                     1                 0              0   \n4                   0                     1                 0              0   \n\n   cyl_level_medium  cyl_level_mod_high  cyl_level_high  \\\n0                 1                   0               0   \n1                 1                   0               0   \n2                 0                   1               0   \n3                 0                   1               0   \n4                 0                   1               0   \n\n   air_pollution_score_level_low  air_pollution_score_level_medium  \\\n0                              0                                 1   \n1                              0                                 1   \n2                              0                                 1   \n3                              0                                 1   \n4                              0                                 1   \n\n   air_pollution_score_level_mod_high  air_pollution_score_level_high  \\\n0                                   0                               0   \n1                                   0                               0   \n2                                   0                               0   \n3                                   0                               0   \n4                                   0                               0   \n\n   city_mpg_level_low  city_mpg_level_medium  city_mpg_level_mod_high  \\\n0                   0                      0                        1   \n1                   0                      0                        1   \n2                   0                      0                        0   \n3                   0                      0                        0   \n4                   0                      0                        1   \n\n   city_mpg_level_high  hwy_mpg_level_low  hwy_mpg_level_medium  \\\n0                    0                  0                     0   \n1                    0                  0                     0   \n2                    1                  0                     0   \n3                    1                  0                     0   \n4                    0                  0                     0   \n\n   hwy_mpg_level_mod_high  hwy_mpg_level_high  cmb_mpg_level_low  \\\n0                       0                   1                  0   \n1                       0                   1                  0   \n2                       1                   0                  0   \n3                       1                   0                  0   \n4                       1                   0                  0   \n\n   cmb_mpg_level_medium  cmb_mpg_level_mod_high  cmb_mpg_level_high  \\\n0                     0                       0                   1   \n1                     0                       0                   1   \n2                     0                       1                   0   \n3                     0                       1                   0   \n4                     0                       1                   0   \n\n   greenhouse_gas_score_level_low  greenhouse_gas_score_level_medium  \\\n0                               0                                  0   \n1                               0                                  0   \n2                               0                                  0   \n3                               0                                  0   \n4                               0                                  0   \n\n   greenhouse_gas_score_level_mod_high  greenhouse_gas_score_level_high  \n0                                    1                                0  \n1                                    1                                0  \n2                                    1                                0  \n3                                    1                                0  \n4                                    1                                0  ",
      "text/html": "<div>\n<style scoped>\n    .dataframe tbody tr th:only-of-type {\n        vertical-align: middle;\n    }\n\n    .dataframe tbody tr th {\n        vertical-align: top;\n    }\n\n    .dataframe thead th {\n        text-align: right;\n    }\n</style>\n<table border=\"1\" class=\"dataframe\">\n  <thead>\n    <tr style=\"text-align: right;\">\n      <th></th>\n      <th>model</th>\n      <th>displ</th>\n      <th>cyl</th>\n      <th>air_pollution_score</th>\n      <th>city_mpg</th>\n      <th>hwy_mpg</th>\n      <th>cmb_mpg</th>\n      <th>greenhouse_gas_score</th>\n      <th>trans_AMS-6</th>\n      <th>trans_AMS-7</th>\n      <th>trans_AMS-8</th>\n      <th>trans_AMS-9</th>\n      <th>trans_Auto-1</th>\n      <th>trans_Auto-10</th>\n      <th>trans_Auto-4</th>\n      <th>trans_Auto-6</th>\n      <th>trans_Auto-7</th>\n      <th>trans_Auto-8</th>\n      <th>trans_Auto-9</th>\n      <th>trans_AutoMan-6</th>\n      <th>trans_AutoMan-7</th>\n      <th>trans_AutoMan-8</th>\n      <th>trans_CVT</th>\n      <th>trans_Man-5</th>\n      <th>trans_Man-6</th>\n      <th>trans_Man-7</th>\n      <th>trans_SCV-10</th>\n      <th>trans_SCV-6</th>\n      <th>trans_SCV-7</th>\n      <th>trans_SCV-8</th>\n      <th>trans_SemiAuto-10</th>\n      <th>trans_SemiAuto-5</th>\n      <th>trans_SemiAuto-6</th>\n      <th>trans_SemiAuto-7</th>\n      <th>trans_SemiAuto-8</th>\n      <th>trans_SemiAuto-9</th>\n      <th>drive_2WD</th>\n      <th>drive_4WD</th>\n      <th>fuel_Diesel</th>\n      <th>fuel_Electricity</th>\n      <th>fuel_Ethanol</th>\n      <th>fuel_Gas</th>\n      <th>fuel_Gasoline</th>\n      <th>cert_region_CA</th>\n      <th>cert_region_FA</th>\n      <th>veh_class_large car</th>\n      <th>veh_class_midsize car</th>\n      <th>veh_class_minivan</th>\n      <th>veh_class_pickup</th>\n      <th>veh_class_small SUV</th>\n      <th>veh_class_small car</th>\n      <th>veh_class_special purpose</th>\n      <th>veh_class_standard SUV</th>\n      <th>veh_class_station wagon</th>\n      <th>veh_class_van</th>\n      <th>smartway_Elite</th>\n      <th>smartway_No</th>\n      <th>smartway_Yes</th>\n      <th>displ_level_low</th>\n      <th>displ_level_medium</th>\n      <th>displ_level_mod_high</th>\n      <th>displ_level_high</th>\n      <th>cyl_level_low</th>\n      <th>cyl_level_medium</th>\n      <th>cyl_level_mod_high</th>\n      <th>cyl_level_high</th>\n      <th>air_pollution_score_level_low</th>\n      <th>air_pollution_score_level_medium</th>\n      <th>air_pollution_score_level_mod_high</th>\n      <th>air_pollution_score_level_high</th>\n      <th>city_mpg_level_low</th>\n      <th>city_mpg_level_medium</th>\n      <th>city_mpg_level_mod_high</th>\n      <th>city_mpg_level_high</th>\n      <th>hwy_mpg_level_low</th>\n      <th>hwy_mpg_level_medium</th>\n      <th>hwy_mpg_level_mod_high</th>\n      <th>hwy_mpg_level_high</th>\n      <th>cmb_mpg_level_low</th>\n      <th>cmb_mpg_level_medium</th>\n      <th>cmb_mpg_level_mod_high</th>\n      <th>cmb_mpg_level_high</th>\n      <th>greenhouse_gas_score_level_low</th>\n      <th>greenhouse_gas_score_level_medium</th>\n      <th>greenhouse_gas_score_level_mod_high</th>\n      <th>greenhouse_gas_score_level_high</th>\n    </tr>\n  </thead>\n  <tbody>\n    <tr>\n      <th>0</th>\n      <td>ACURA ILX</td>\n      <td>2.4</td>\n      <td>4.0</td>\n      <td>3</td>\n      <td>24</td>\n      <td>34</td>\n      <td>28</td>\n      <td>6</td>\n      <td>0</td>\n      <td>0</td>\n      <td>1</td>\n      <td>0</td>\n      <td>0</td>\n      <td>0</td>\n      <td>0</td>\n      <td>0</td>\n      <td>0</td>\n      <td>0</td>\n      <td>0</td>\n      <td>0</td>\n      <td>0</td>\n      <td>0</td>\n      <td>0</td>\n      <td>0</td>\n      <td>0</td>\n      <td>0</td>\n      <td>0</td>\n      <td>0</td>\n      <td>0</td>\n      <td>0</td>\n      <td>0</td>\n      <td>0</td>\n      <td>0</td>\n      <td>0</td>\n      <td>0</td>\n      <td>0</td>\n      <td>1</td>\n      <td>0</td>\n      <td>0</td>\n      <td>0</td>\n      <td>0</td>\n      <td>0</td>\n      <td>1</td>\n      <td>1</td>\n      <td>0</td>\n      <td>0</td>\n      <td>0</td>\n      <td>0</td>\n      <td>0</td>\n      <td>0</td>\n      <td>1</td>\n      <td>0</td>\n      <td>0</td>\n      <td>0</td>\n      <td>0</td>\n      <td>0</td>\n      <td>1</td>\n      <td>0</td>\n      <td>0</td>\n      <td>1</td>\n      <td>0</td>\n      <td>0</td>\n      <td>0</td>\n      <td>1</td>\n      <td>0</td>\n      <td>0</td>\n      <td>0</td>\n      <td>1</td>\n      <td>0</td>\n      <td>0</td>\n      <td>0</td>\n      <td>0</td>\n      <td>1</td>\n      <td>0</td>\n      <td>0</td>\n      <td>0</td>\n      <td>0</td>\n      <td>1</td>\n      <td>0</td>\n      <td>0</td>\n      <td>0</td>\n      <td>1</td>\n      <td>0</td>\n      <td>0</td>\n      <td>1</td>\n      <td>0</td>\n    </tr>\n    <tr>\n      <th>1</th>\n      <td>ACURA ILX</td>\n      <td>2.4</td>\n      <td>4.0</td>\n      <td>3</td>\n      <td>24</td>\n      <td>34</td>\n      <td>28</td>\n      <td>6</td>\n      <td>0</td>\n      <td>0</td>\n      <td>1</td>\n      <td>0</td>\n      <td>0</td>\n      <td>0</td>\n      <td>0</td>\n      <td>0</td>\n      <td>0</td>\n      <td>0</td>\n      <td>0</td>\n      <td>0</td>\n      <td>0</td>\n      <td>0</td>\n      <td>0</td>\n      <td>0</td>\n      <td>0</td>\n      <td>0</td>\n      <td>0</td>\n      <td>0</td>\n      <td>0</td>\n      <td>0</td>\n      <td>0</td>\n      <td>0</td>\n      <td>0</td>\n      <td>0</td>\n      <td>0</td>\n      <td>0</td>\n      <td>1</td>\n      <td>0</td>\n      <td>0</td>\n      <td>0</td>\n      <td>0</td>\n      <td>0</td>\n      <td>1</td>\n      <td>0</td>\n      <td>1</td>\n      <td>0</td>\n      <td>0</td>\n      <td>0</td>\n      <td>0</td>\n      <td>0</td>\n      <td>1</td>\n      <td>0</td>\n      <td>0</td>\n      <td>0</td>\n      <td>0</td>\n      <td>0</td>\n      <td>1</td>\n      <td>0</td>\n      <td>0</td>\n      <td>1</td>\n      <td>0</td>\n      <td>0</td>\n      <td>0</td>\n      <td>1</td>\n      <td>0</td>\n      <td>0</td>\n      <td>0</td>\n      <td>1</td>\n      <td>0</td>\n      <td>0</td>\n      <td>0</td>\n      <td>0</td>\n      <td>1</td>\n      <td>0</td>\n      <td>0</td>\n      <td>0</td>\n      <td>0</td>\n      <td>1</td>\n      <td>0</td>\n      <td>0</td>\n      <td>0</td>\n      <td>1</td>\n      <td>0</td>\n      <td>0</td>\n      <td>1</td>\n      <td>0</td>\n    </tr>\n    <tr>\n      <th>2</th>\n      <td>ACURA MDX</td>\n      <td>3.0</td>\n      <td>6.0</td>\n      <td>3</td>\n      <td>26</td>\n      <td>27</td>\n      <td>27</td>\n      <td>6</td>\n      <td>0</td>\n      <td>1</td>\n      <td>0</td>\n      <td>0</td>\n      <td>0</td>\n      <td>0</td>\n      <td>0</td>\n      <td>0</td>\n      <td>0</td>\n      <td>0</td>\n      <td>0</td>\n      <td>0</td>\n      <td>0</td>\n      <td>0</td>\n      <td>0</td>\n      <td>0</td>\n      <td>0</td>\n      <td>0</td>\n      <td>0</td>\n      <td>0</td>\n      <td>0</td>\n      <td>0</td>\n      <td>0</td>\n      <td>0</td>\n      <td>0</td>\n      <td>0</td>\n      <td>0</td>\n      <td>0</td>\n      <td>0</td>\n      <td>1</td>\n      <td>0</td>\n      <td>0</td>\n      <td>0</td>\n      <td>0</td>\n      <td>1</td>\n      <td>1</td>\n      <td>0</td>\n      <td>0</td>\n      <td>0</td>\n      <td>0</td>\n      <td>0</td>\n      <td>1</td>\n      <td>0</td>\n      <td>0</td>\n      <td>0</td>\n      <td>0</td>\n      <td>0</td>\n      <td>0</td>\n      <td>1</td>\n      <td>0</td>\n      <td>0</td>\n      <td>0</td>\n      <td>1</td>\n      <td>0</td>\n      <td>0</td>\n      <td>0</td>\n      <td>1</td>\n      <td>0</td>\n      <td>0</td>\n      <td>1</td>\n      <td>0</td>\n      <td>0</td>\n      <td>0</td>\n      <td>0</td>\n      <td>0</td>\n      <td>1</td>\n      <td>0</td>\n      <td>0</td>\n      <td>1</td>\n      <td>0</td>\n      <td>0</td>\n      <td>0</td>\n      <td>1</td>\n      <td>0</td>\n      <td>0</td>\n      <td>0</td>\n      <td>1</td>\n      <td>0</td>\n    </tr>\n    <tr>\n      <th>3</th>\n      <td>ACURA MDX</td>\n      <td>3.0</td>\n      <td>6.0</td>\n      <td>3</td>\n      <td>26</td>\n      <td>27</td>\n      <td>27</td>\n      <td>6</td>\n      <td>0</td>\n      <td>1</td>\n      <td>0</td>\n      <td>0</td>\n      <td>0</td>\n      <td>0</td>\n      <td>0</td>\n      <td>0</td>\n      <td>0</td>\n      <td>0</td>\n      <td>0</td>\n      <td>0</td>\n      <td>0</td>\n      <td>0</td>\n      <td>0</td>\n      <td>0</td>\n      <td>0</td>\n      <td>0</td>\n      <td>0</td>\n      <td>0</td>\n      <td>0</td>\n      <td>0</td>\n      <td>0</td>\n      <td>0</td>\n      <td>0</td>\n      <td>0</td>\n      <td>0</td>\n      <td>0</td>\n      <td>0</td>\n      <td>1</td>\n      <td>0</td>\n      <td>0</td>\n      <td>0</td>\n      <td>0</td>\n      <td>1</td>\n      <td>0</td>\n      <td>1</td>\n      <td>0</td>\n      <td>0</td>\n      <td>0</td>\n      <td>0</td>\n      <td>1</td>\n      <td>0</td>\n      <td>0</td>\n      <td>0</td>\n      <td>0</td>\n      <td>0</td>\n      <td>0</td>\n      <td>1</td>\n      <td>0</td>\n      <td>0</td>\n      <td>0</td>\n      <td>1</td>\n      <td>0</td>\n      <td>0</td>\n      <td>0</td>\n      <td>1</td>\n      <td>0</td>\n      <td>0</td>\n      <td>1</td>\n      <td>0</td>\n      <td>0</td>\n      <td>0</td>\n      <td>0</td>\n      <td>0</td>\n      <td>1</td>\n      <td>0</td>\n      <td>0</td>\n      <td>1</td>\n      <td>0</td>\n      <td>0</td>\n      <td>0</td>\n      <td>1</td>\n      <td>0</td>\n      <td>0</td>\n      <td>0</td>\n      <td>1</td>\n      <td>0</td>\n    </tr>\n    <tr>\n      <th>4</th>\n      <td>ACURA MDX</td>\n      <td>3.5</td>\n      <td>6.0</td>\n      <td>3</td>\n      <td>20</td>\n      <td>27</td>\n      <td>23</td>\n      <td>5</td>\n      <td>0</td>\n      <td>0</td>\n      <td>0</td>\n      <td>0</td>\n      <td>0</td>\n      <td>0</td>\n      <td>0</td>\n      <td>0</td>\n      <td>0</td>\n      <td>0</td>\n      <td>0</td>\n      <td>0</td>\n      <td>0</td>\n      <td>0</td>\n      <td>0</td>\n      <td>0</td>\n      <td>0</td>\n      <td>0</td>\n      <td>0</td>\n      <td>0</td>\n      <td>0</td>\n      <td>0</td>\n      <td>0</td>\n      <td>0</td>\n      <td>0</td>\n      <td>0</td>\n      <td>0</td>\n      <td>1</td>\n      <td>1</td>\n      <td>0</td>\n      <td>0</td>\n      <td>0</td>\n      <td>0</td>\n      <td>0</td>\n      <td>1</td>\n      <td>1</td>\n      <td>0</td>\n      <td>0</td>\n      <td>0</td>\n      <td>0</td>\n      <td>0</td>\n      <td>1</td>\n      <td>0</td>\n      <td>0</td>\n      <td>0</td>\n      <td>0</td>\n      <td>0</td>\n      <td>0</td>\n      <td>1</td>\n      <td>0</td>\n      <td>0</td>\n      <td>0</td>\n      <td>1</td>\n      <td>0</td>\n      <td>0</td>\n      <td>0</td>\n      <td>1</td>\n      <td>0</td>\n      <td>0</td>\n      <td>1</td>\n      <td>0</td>\n      <td>0</td>\n      <td>0</td>\n      <td>0</td>\n      <td>1</td>\n      <td>0</td>\n      <td>0</td>\n      <td>0</td>\n      <td>1</td>\n      <td>0</td>\n      <td>0</td>\n      <td>0</td>\n      <td>1</td>\n      <td>0</td>\n      <td>0</td>\n      <td>0</td>\n      <td>1</td>\n      <td>0</td>\n    </tr>\n  </tbody>\n</table>\n</div>"
     },
     "metadata": {},
     "execution_count": 17
    }
   ],
   "source": [
    "df_2020_onehot.head(5)"
   ]
  },
  {
   "cell_type": "markdown",
   "metadata": {},
   "source": [
    "## Combining Data set into one based on car models"
   ]
  },
  {
   "cell_type": "markdown",
   "metadata": {},
   "source": [
    "Original data sets for 2010 and 2020, before combining we need to identify each data separately, therefor we will add a new column  __\"year\"__  which will determine the vehicle which year is it from. "
   ]
  },
  {
   "cell_type": "code",
   "execution_count": 18,
   "metadata": {},
   "outputs": [],
   "source": [
    "# merge data sets\n",
    "df_combined = data_2010_cp.merge(df_2020, left_on=\"model_2010\", right_on=\"model\", how=\"inner\")"
   ]
  },
  {
   "cell_type": "markdown",
   "metadata": {},
   "source": [
    "### Combine onehot data set"
   ]
  },
  {
   "cell_type": "code",
   "execution_count": 19,
   "metadata": {},
   "outputs": [],
   "source": [
    "df_combined_onehot = df_2010_onehot.merge(df_2020_onehot, left_on=\"model_2010\", right_on=\"model\", how=\"inner\")"
   ]
  },
  {
   "cell_type": "code",
   "execution_count": 20,
   "metadata": {},
   "outputs": [
    {
     "output_type": "execute_result",
     "data": {
      "text/plain": "False"
     },
     "metadata": {},
     "execution_count": 20
    }
   ],
   "source": [
    "# check for null values\n",
    "df_combined_onehot.isna().sum().any()"
   ]
  },
  {
   "cell_type": "markdown",
   "metadata": {},
   "source": [
    "## Save Data set to csv files"
   ]
  },
  {
   "cell_type": "code",
   "execution_count": 21,
   "metadata": {},
   "outputs": [],
   "source": [
    "# original data sets 2010 and 2020\n",
    "df_2010.to_csv(\"data/data_2010_v2.csv\", index=False)\n",
    "df_2020.to_csv(\"data/data_2020_v2.csv\", index=False)"
   ]
  },
  {
   "cell_type": "code",
   "execution_count": 22,
   "metadata": {},
   "outputs": [],
   "source": [
    "# cobined data\n",
    "df_combined.to_csv(\"data/data_combined.csv\", index=False)"
   ]
  },
  {
   "cell_type": "code",
   "execution_count": 23,
   "metadata": {},
   "outputs": [],
   "source": [
    "# combined onehot data\n",
    "df_combined_onehot.to_csv(\"data/data_combined_onehot.csv\", index=False)"
   ]
  }
 ],
 "metadata": {
  "kernelspec": {
   "display_name": "Python 3",
   "language": "python",
   "name": "python3"
  },
  "language_info": {
   "codemirror_mode": {
    "name": "ipython",
    "version": 3
   },
   "file_extension": ".py",
   "mimetype": "text/x-python",
   "name": "python",
   "nbconvert_exporter": "python",
   "pygments_lexer": "ipython3",
   "version": "3.8.3-final"
  }
 },
 "nbformat": 4,
 "nbformat_minor": 4
}