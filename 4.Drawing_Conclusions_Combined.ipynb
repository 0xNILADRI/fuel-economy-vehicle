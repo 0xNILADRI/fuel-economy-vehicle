{
 "metadata": {
  "language_info": {
   "codemirror_mode": {
    "name": "ipython",
    "version": 3
   },
   "file_extension": ".py",
   "mimetype": "text/x-python",
   "name": "python",
   "nbconvert_exporter": "python",
   "pygments_lexer": "ipython3",
   "version": "3.8.3-final"
  },
  "orig_nbformat": 2,
  "kernelspec": {
   "name": "python_defaultSpec_1600371237854",
   "display_name": "Python 3.8.3 64-bit ('base': conda)"
  }
 },
 "nbformat": 4,
 "nbformat_minor": 2,
 "cells": [
  {
   "source": [
    "# Results with Merged Dataset\n",
    "\n",
    "### Q7: For all of the models that were produced in 2010 that are still being produced now, how much has the mpg improved and which vehicle improved the most?"
   ],
   "cell_type": "markdown",
   "metadata": {}
  },
  {
   "cell_type": "code",
   "execution_count": 1,
   "metadata": {},
   "outputs": [],
   "source": [
    "# import necesary libraries\n",
    "\n",
    "import numpy as np\n",
    "import pandas as pd\n",
    "from IPython.display import display\n",
    "\n",
    "pd.options.display.max_columns = None"
   ]
  },
  {
   "cell_type": "code",
   "execution_count": 3,
   "metadata": {},
   "outputs": [],
   "source": [
    "# load dataset\n",
    "df_combined = pd.read_csv('data/data_combined.csv')"
   ]
  },
  {
   "source": [
    "### 1. Create a new dataframe, `mpg_model`, that contain the mean combined mpg values in 2010 and 2020 for each unique model"
   ],
   "cell_type": "markdown",
   "metadata": {}
  },
  {
   "cell_type": "code",
   "execution_count": 7,
   "metadata": {},
   "outputs": [],
   "source": [
    "# group by model, mean cmb_mpg_2010 and mean cmb_mpg for each.\n",
    "mpg_model = df_combined.groupby('model').mean()[['cmb_mpg_2010', 'cmb_mpg']]"
   ]
  },
  {
   "cell_type": "code",
   "execution_count": 8,
   "metadata": {},
   "outputs": [
    {
     "output_type": "execute_result",
     "data": {
      "text/plain": "                  cmb_mpg_2010  cmb_mpg\nmodel                                  \nACURA MDX            18.000000     24.0\nACURA RDX            20.000000     23.5\nASTON MARTIN DBS     13.500000     17.0\nAUDI A3              24.000000     27.5\nAUDI A4              24.666667     28.5",
      "text/html": "<div>\n<style scoped>\n    .dataframe tbody tr th:only-of-type {\n        vertical-align: middle;\n    }\n\n    .dataframe tbody tr th {\n        vertical-align: top;\n    }\n\n    .dataframe thead th {\n        text-align: right;\n    }\n</style>\n<table border=\"1\" class=\"dataframe\">\n  <thead>\n    <tr style=\"text-align: right;\">\n      <th></th>\n      <th>cmb_mpg_2010</th>\n      <th>cmb_mpg</th>\n    </tr>\n    <tr>\n      <th>model</th>\n      <th></th>\n      <th></th>\n    </tr>\n  </thead>\n  <tbody>\n    <tr>\n      <th>ACURA MDX</th>\n      <td>18.000000</td>\n      <td>24.0</td>\n    </tr>\n    <tr>\n      <th>ACURA RDX</th>\n      <td>20.000000</td>\n      <td>23.5</td>\n    </tr>\n    <tr>\n      <th>ASTON MARTIN DBS</th>\n      <td>13.500000</td>\n      <td>17.0</td>\n    </tr>\n    <tr>\n      <th>AUDI A3</th>\n      <td>24.000000</td>\n      <td>27.5</td>\n    </tr>\n    <tr>\n      <th>AUDI A4</th>\n      <td>24.666667</td>\n      <td>28.5</td>\n    </tr>\n  </tbody>\n</table>\n</div>"
     },
     "metadata": {},
     "execution_count": 8
    }
   ],
   "source": [
    "mpg_model.head()"
   ]
  },
  {
   "source": [
    "### 2. Create a new column, `mpg_change`, with the change in mpg"
   ],
   "cell_type": "markdown",
   "metadata": {}
  },
  {
   "cell_type": "code",
   "execution_count": 9,
   "metadata": {},
   "outputs": [],
   "source": [
    "# Subtract the mean mpg in 2010 from that in 2020 to get the change in mpg\n",
    "mpg_model['mpg_change'] = model_mpg['cmb_mpg'] - model_mpg['cmb_mpg_2010']"
   ]
  },
  {
   "cell_type": "code",
   "execution_count": 10,
   "metadata": {},
   "outputs": [
    {
     "output_type": "execute_result",
     "data": {
      "text/plain": "                  cmb_mpg_2010  cmb_mpg  mpg_change\nmodel                                              \nACURA MDX            18.000000     24.0    6.000000\nACURA RDX            20.000000     23.5    3.500000\nASTON MARTIN DBS     13.500000     17.0    3.500000\nAUDI A3              24.000000     27.5    3.500000\nAUDI A4              24.666667     28.5    3.833333",
      "text/html": "<div>\n<style scoped>\n    .dataframe tbody tr th:only-of-type {\n        vertical-align: middle;\n    }\n\n    .dataframe tbody tr th {\n        vertical-align: top;\n    }\n\n    .dataframe thead th {\n        text-align: right;\n    }\n</style>\n<table border=\"1\" class=\"dataframe\">\n  <thead>\n    <tr style=\"text-align: right;\">\n      <th></th>\n      <th>cmb_mpg_2010</th>\n      <th>cmb_mpg</th>\n      <th>mpg_change</th>\n    </tr>\n    <tr>\n      <th>model</th>\n      <th></th>\n      <th></th>\n      <th></th>\n    </tr>\n  </thead>\n  <tbody>\n    <tr>\n      <th>ACURA MDX</th>\n      <td>18.000000</td>\n      <td>24.0</td>\n      <td>6.000000</td>\n    </tr>\n    <tr>\n      <th>ACURA RDX</th>\n      <td>20.000000</td>\n      <td>23.5</td>\n      <td>3.500000</td>\n    </tr>\n    <tr>\n      <th>ASTON MARTIN DBS</th>\n      <td>13.500000</td>\n      <td>17.0</td>\n      <td>3.500000</td>\n    </tr>\n    <tr>\n      <th>AUDI A3</th>\n      <td>24.000000</td>\n      <td>27.5</td>\n      <td>3.500000</td>\n    </tr>\n    <tr>\n      <th>AUDI A4</th>\n      <td>24.666667</td>\n      <td>28.5</td>\n      <td>3.833333</td>\n    </tr>\n  </tbody>\n</table>\n</div>"
     },
     "metadata": {},
     "execution_count": 10
    }
   ],
   "source": [
    "mpg_model.head()"
   ]
  },
  {
   "source": [
    "### 3. Find the vehicle that improved the most"
   ],
   "cell_type": "markdown",
   "metadata": {}
  },
  {
   "cell_type": "code",
   "execution_count": 11,
   "metadata": {},
   "outputs": [
    {
     "output_type": "execute_result",
     "data": {
      "text/plain": "18.666666666666664"
     },
     "metadata": {},
     "execution_count": 11
    }
   ],
   "source": [
    "# maximum change\n",
    "max_change = mpg_model['mpg_change'].max()\n",
    "max_change"
   ]
  },
  {
   "cell_type": "code",
   "execution_count": 12,
   "metadata": {},
   "outputs": [
    {
     "output_type": "execute_result",
     "data": {
      "text/plain": "         cmb_mpg_2010    cmb_mpg  mpg_change\nmodel                                       \nAUDI Q5          20.0  38.666667   18.666667",
      "text/html": "<div>\n<style scoped>\n    .dataframe tbody tr th:only-of-type {\n        vertical-align: middle;\n    }\n\n    .dataframe tbody tr th {\n        vertical-align: top;\n    }\n\n    .dataframe thead th {\n        text-align: right;\n    }\n</style>\n<table border=\"1\" class=\"dataframe\">\n  <thead>\n    <tr style=\"text-align: right;\">\n      <th></th>\n      <th>cmb_mpg_2010</th>\n      <th>cmb_mpg</th>\n      <th>mpg_change</th>\n    </tr>\n    <tr>\n      <th>model</th>\n      <th></th>\n      <th></th>\n      <th></th>\n    </tr>\n  </thead>\n  <tbody>\n    <tr>\n      <th>AUDI Q5</th>\n      <td>20.0</td>\n      <td>38.666667</td>\n      <td>18.666667</td>\n    </tr>\n  </tbody>\n</table>\n</div>"
     },
     "metadata": {},
     "execution_count": 12
    }
   ],
   "source": [
    "# find details \n",
    "mpg_model[mpg_model['mpg_change'] == max_change]"
   ]
  },
  {
   "source": [
    "### AUDI Q5 has a masive increase in mileage of 18.6 mpg."
   ],
   "cell_type": "markdown",
   "metadata": {}
  },
  {
   "source": [
    "### 4. Find the vehicle that improved the least"
   ],
   "cell_type": "markdown",
   "metadata": {}
  },
  {
   "cell_type": "code",
   "execution_count": 13,
   "metadata": {},
   "outputs": [
    {
     "output_type": "execute_result",
     "data": {
      "text/plain": "-3.0"
     },
     "metadata": {},
     "execution_count": 13
    }
   ],
   "source": [
    "# maximum change\n",
    "min_change = mpg_model['mpg_change'].min()\n",
    "min_change"
   ]
  },
  {
   "cell_type": "code",
   "execution_count": 14,
   "metadata": {},
   "outputs": [
    {
     "output_type": "execute_result",
     "data": {
      "text/plain": "                       cmb_mpg_2010  cmb_mpg  mpg_change\nmodel                                                   \nROUSH Stage 3 Mustang          17.5     14.5        -3.0",
      "text/html": "<div>\n<style scoped>\n    .dataframe tbody tr th:only-of-type {\n        vertical-align: middle;\n    }\n\n    .dataframe tbody tr th {\n        vertical-align: top;\n    }\n\n    .dataframe thead th {\n        text-align: right;\n    }\n</style>\n<table border=\"1\" class=\"dataframe\">\n  <thead>\n    <tr style=\"text-align: right;\">\n      <th></th>\n      <th>cmb_mpg_2010</th>\n      <th>cmb_mpg</th>\n      <th>mpg_change</th>\n    </tr>\n    <tr>\n      <th>model</th>\n      <th></th>\n      <th></th>\n      <th></th>\n    </tr>\n  </thead>\n  <tbody>\n    <tr>\n      <th>ROUSH Stage 3 Mustang</th>\n      <td>17.5</td>\n      <td>14.5</td>\n      <td>-3.0</td>\n    </tr>\n  </tbody>\n</table>\n</div>"
     },
     "metadata": {},
     "execution_count": 14
    }
   ],
   "source": [
    "# find details \n",
    "mpg_model[mpg_model['mpg_change'] == min_change]"
   ]
  },
  {
   "source": [
    "### Roush Stage 3 Mustang had a decrease in mileage of 3 mpg, and we certainly know why ! Its all muscle and power ."
   ],
   "cell_type": "markdown",
   "metadata": {}
  },
  {
   "source": [
    "### 5. Find the vehicle that had no improvement"
   ],
   "cell_type": "markdown",
   "metadata": {}
  },
  {
   "cell_type": "code",
   "execution_count": 15,
   "metadata": {},
   "outputs": [
    {
     "output_type": "execute_result",
     "data": {
      "text/plain": "                         cmb_mpg_2010  cmb_mpg  mpg_change\nmodel                                                     \nFORD Transit Connect             23.0     23.0         0.0\nLEXUS LX 570                     14.0     14.0         0.0\nPORSCHE Boxster                  23.0     23.0         0.0\nPORSCHE Cayman                   23.0     23.0         0.0\nROLLS-ROYCE Phantom              14.0     14.0         0.0\nROLLS-ROYCE Phantom EWB          14.0     14.0         0.0",
      "text/html": "<div>\n<style scoped>\n    .dataframe tbody tr th:only-of-type {\n        vertical-align: middle;\n    }\n\n    .dataframe tbody tr th {\n        vertical-align: top;\n    }\n\n    .dataframe thead th {\n        text-align: right;\n    }\n</style>\n<table border=\"1\" class=\"dataframe\">\n  <thead>\n    <tr style=\"text-align: right;\">\n      <th></th>\n      <th>cmb_mpg_2010</th>\n      <th>cmb_mpg</th>\n      <th>mpg_change</th>\n    </tr>\n    <tr>\n      <th>model</th>\n      <th></th>\n      <th></th>\n      <th></th>\n    </tr>\n  </thead>\n  <tbody>\n    <tr>\n      <th>FORD Transit Connect</th>\n      <td>23.0</td>\n      <td>23.0</td>\n      <td>0.0</td>\n    </tr>\n    <tr>\n      <th>LEXUS LX 570</th>\n      <td>14.0</td>\n      <td>14.0</td>\n      <td>0.0</td>\n    </tr>\n    <tr>\n      <th>PORSCHE Boxster</th>\n      <td>23.0</td>\n      <td>23.0</td>\n      <td>0.0</td>\n    </tr>\n    <tr>\n      <th>PORSCHE Cayman</th>\n      <td>23.0</td>\n      <td>23.0</td>\n      <td>0.0</td>\n    </tr>\n    <tr>\n      <th>ROLLS-ROYCE Phantom</th>\n      <td>14.0</td>\n      <td>14.0</td>\n      <td>0.0</td>\n    </tr>\n    <tr>\n      <th>ROLLS-ROYCE Phantom EWB</th>\n      <td>14.0</td>\n      <td>14.0</td>\n      <td>0.0</td>\n    </tr>\n  </tbody>\n</table>\n</div>"
     },
     "metadata": {},
     "execution_count": 15
    }
   ],
   "source": [
    "mpg_model[mpg_model['mpg_change']==0]"
   ]
  },
  {
   "source": [
    "### There are 6 vehicle that had no change in thier mileage."
   ],
   "cell_type": "markdown",
   "metadata": {}
  }
 ]
}