{
 "cells": [
  {
   "cell_type": "markdown",
   "metadata": {},
   "source": [
    "# Fuel Economy\n",
    "### Data on Cars used for Testing Fuel Economy\n",
    "<hr>\n",
    "\n",
    "The test data used to determine fuel economy estimates is derived from vehicle testing done at EPA's National Vehicle and Fuel Emissions Laboratory in Ann Arbor, Michigan, and by vehicle manufacturers who submit their own test data to EPA.\n",
    "\n",
    "Each year, EPA provides fuel economy data to the Department of Energy (DOE), the Department of Transportation (DOT) and the Internal Revenue Service (IRS) so that they can administer their fuel economy-related programs.\n",
    "\n",
    "In this scenario we will analyse how the fuel economy has made impact on vehicles after a decade. Therfor we will use the dataset for 2010 and 2020 respectively and analyse how much impact has been done. One of the major concern of recent times is pollution which contributes to environmental degradatation and vehicles adds the most of it. With the steep increase in vehicle buying we need to analyse the economy of vehicles, as the more fuel is burnt the more residue is emmisioned into the atmosphere plus the rapid decrease in non-renuable sources would put a devastation scenario to our future generations.\n",
    "\n",
    "\n",
    "### About the Dataset\n",
    "<hr>\n",
    "\n",
    "Fuel economy data are the result of vehicle testing done at the Environmental Protection Agency's National Vehicle and Fuel Emissions Laboratory in Ann Arbor, Michigan, and by vehicle manufacturers with oversight by EPA.\n",
    "\n",
    "#### Attribute Information\n",
    "\n",
    "The data set comprises of the following features of vehicles and the respective vehicles data points :\n",
    "\n",
    "* Model – vehicle make and model\n",
    "* Displ – engine displacement in liters\n",
    "* Cyl – number of engine cylinders\n",
    "* Trans – transmission type plus number of gears\n",
    "    1. Auto - Automatic\n",
    "    2. Man - Manual\n",
    "    3. SemiAuto - Semi-Automatic\n",
    "    4. SCV - Selectable Continuously Variable (e.g. CVT with paddles)\n",
    "    5. AutoMan - Automated Manual\n",
    "    6. AMS - Automated Manual-Selectable (e.g. Automated Manual with paddles)\n",
    "    7. Other - Other\n",
    "    8. CVT - Continuously Variable\n",
    "    9. CM3 - Creeper/Manual 3-Speed\n",
    "    10. CM4 - Creeper/Manual 4-Speed\n",
    "    11. C4 - Creeper/Manual 4-Speed\n",
    "    12. C5 - Creeper/Manual 5-Speed\n",
    "    13. Auto-S2 - Semi-Automatic 2-Speed\n",
    "    14. Auto-S3 - Semi-Automatic 3-Speed\n",
    "    15. Auto-S4 - Semi-Automatic 4-Speed\n",
    "    16. Auto-S5 - Semi-Automatic 5-Speed\n",
    "    17. Auto-S6 - Semi-Automatic 6-Speed\n",
    "    18. Auto-S7 - Semi-Automatic 7-Speed\n",
    "* Drive – 2-wheel Drive, 4-wheel drive/all-wheel drive\n",
    "* Fuel – fuel(s)\n",
    "* Cert Region –\n",
    "    1. CA - California\n",
    "    2. CE - Calif. + NLEV (Northeast trading area)\n",
    "    3. CF - Clean Fuel Vehicle\n",
    "    4. CL - Calif. + NLEV (All states)\n",
    "    5. FA - Federal All Altitude\n",
    "    6. FC - Tier 2 Federal and Calif.\n",
    "    7. NF - CFV + NLEV(ASTR) + Calif.\n",
    "    8. NL - NLEV (All states)\n",
    "* Stnd – vehicle emissions standard code. See Stnd Description.\n",
    "* Stnd Description – vehicle emissions standard description. See\n",
    "https://www.epa.gov/greenvehicles/federal-and-california-light-duty-vehicle-emissions-standards-air-\n",
    "pollutants\n",
    "* Underhood ID – engine family or test group ID. See\n",
    "http://www.fueleconomy.gov/feg/findacarhelp.shtml#airPollutionScore\n",
    "* Veh Class – EPA vehicle class. See http://www.fueleconomy.gov/feg/findacarhelp.shtml#epaSizeClass\n",
    "* Air Pollution Score (Smog Rating) – see\n",
    "http://www.fueleconomy.gov/feg/findacarhelp.shtml#airPollutionScore and\n",
    "https://www.epa.gov/greenvehicles/smog-rating\n",
    "* City MPG – city fuel economy in miles per gallon\n",
    "* Hwy MPG – highway fuel economy in miles per gallon\n",
    "* Cmb MPG – combined city/highway fuel economy in miles per gallon\n",
    "* Greenhouse Gas Score (Greenhouse Gas Rating) – see\n",
    "https://www.epa.gov/greenvehicles/greenhouse-gas-rating\n",
    "* SmartWay – Yes, No, or Elite. See https://www.epa.gov/greenvehicles/consider-smartway-\n",
    "vehicle\n",
    "* Comb CO 2 – combined city/highway CO 2 tailpipe emissions in grams per mile\n",
    "\n",
    "\n",
    "\n"
   ]
  },
  {
   "cell_type": "code",
   "execution_count": 1,
   "metadata": {},
   "outputs": [],
   "source": [
    "# import necessary libraries\n",
    "\n",
    "import numpy as np\n",
    "import pandas as pd\n",
    "import matplotlib.pyplot as plt\n",
    "import seaborn as sns\n",
    "\n",
    "%matplotlib inline"
   ]
  },
  {
   "cell_type": "markdown",
   "metadata": {},
   "source": [
    "## Data Cleaning"
   ]
  },
  {
   "cell_type": "code",
   "execution_count": 2,
   "metadata": {},
   "outputs": [],
   "source": [
    "# import data sets // both 2010 and 2020 economy data\n",
    "\n",
    "data_2010 = pd.read_excel(\"data/all_alpha_10.xls\")\n",
    "data_2020 = pd.read_excel(\"data/all_alpha_20.xlsx\")"
   ]
  },
  {
   "cell_type": "code",
   "execution_count": 3,
   "metadata": {},
   "outputs": [
    {
     "data": {
      "text/html": [
       "<div>\n",
       "<style scoped>\n",
       "    .dataframe tbody tr th:only-of-type {\n",
       "        vertical-align: middle;\n",
       "    }\n",
       "\n",
       "    .dataframe tbody tr th {\n",
       "        vertical-align: top;\n",
       "    }\n",
       "\n",
       "    .dataframe thead th {\n",
       "        text-align: right;\n",
       "    }\n",
       "</style>\n",
       "<table border=\"1\" class=\"dataframe\">\n",
       "  <thead>\n",
       "    <tr style=\"text-align: right;\">\n",
       "      <th></th>\n",
       "      <th>Model</th>\n",
       "      <th>Displ</th>\n",
       "      <th>Cyl</th>\n",
       "      <th>Trans</th>\n",
       "      <th>Drive</th>\n",
       "      <th>Fuel</th>\n",
       "      <th>Sales Area</th>\n",
       "      <th>Stnd</th>\n",
       "      <th>Stnd Description</th>\n",
       "      <th>Underhood ID</th>\n",
       "      <th>Veh Class</th>\n",
       "      <th>Air Pollution Score</th>\n",
       "      <th>City MPG</th>\n",
       "      <th>Hwy MPG</th>\n",
       "      <th>Cmb MPG</th>\n",
       "      <th>Greenhouse Gas Score</th>\n",
       "      <th>SmartWay</th>\n",
       "    </tr>\n",
       "  </thead>\n",
       "  <tbody>\n",
       "    <tr>\n",
       "      <th>0</th>\n",
       "      <td>ACURA MDX</td>\n",
       "      <td>3.7</td>\n",
       "      <td>6.0</td>\n",
       "      <td>SemiAuto-6</td>\n",
       "      <td>4WD</td>\n",
       "      <td>Gasoline</td>\n",
       "      <td>CA</td>\n",
       "      <td>U2</td>\n",
       "      <td>California LEV-II ULEV</td>\n",
       "      <td>AHNXT03.7W19</td>\n",
       "      <td>SUV</td>\n",
       "      <td>7</td>\n",
       "      <td>16</td>\n",
       "      <td>21</td>\n",
       "      <td>18</td>\n",
       "      <td>4</td>\n",
       "      <td>no</td>\n",
       "    </tr>\n",
       "    <tr>\n",
       "      <th>1</th>\n",
       "      <td>ACURA MDX</td>\n",
       "      <td>3.7</td>\n",
       "      <td>6.0</td>\n",
       "      <td>SemiAuto-6</td>\n",
       "      <td>4WD</td>\n",
       "      <td>Gasoline</td>\n",
       "      <td>FA</td>\n",
       "      <td>B5</td>\n",
       "      <td>Federal Tier 2 Bin 5</td>\n",
       "      <td>AHNXT03.7W19</td>\n",
       "      <td>SUV</td>\n",
       "      <td>6</td>\n",
       "      <td>16</td>\n",
       "      <td>21</td>\n",
       "      <td>18</td>\n",
       "      <td>4</td>\n",
       "      <td>no</td>\n",
       "    </tr>\n",
       "    <tr>\n",
       "      <th>2</th>\n",
       "      <td>ACURA RDX</td>\n",
       "      <td>2.3</td>\n",
       "      <td>4.0</td>\n",
       "      <td>SemiAuto-5</td>\n",
       "      <td>2WD</td>\n",
       "      <td>Gasoline</td>\n",
       "      <td>CA</td>\n",
       "      <td>U2</td>\n",
       "      <td>California LEV-II ULEV</td>\n",
       "      <td>AHNXT02.3Y19</td>\n",
       "      <td>SUV</td>\n",
       "      <td>7</td>\n",
       "      <td>19</td>\n",
       "      <td>24</td>\n",
       "      <td>21</td>\n",
       "      <td>5</td>\n",
       "      <td>no</td>\n",
       "    </tr>\n",
       "    <tr>\n",
       "      <th>3</th>\n",
       "      <td>ACURA RDX</td>\n",
       "      <td>2.3</td>\n",
       "      <td>4.0</td>\n",
       "      <td>SemiAuto-5</td>\n",
       "      <td>4WD</td>\n",
       "      <td>Gasoline</td>\n",
       "      <td>CA</td>\n",
       "      <td>U2</td>\n",
       "      <td>California LEV-II ULEV</td>\n",
       "      <td>AHNXT02.3Y19</td>\n",
       "      <td>SUV</td>\n",
       "      <td>7</td>\n",
       "      <td>17</td>\n",
       "      <td>22</td>\n",
       "      <td>19</td>\n",
       "      <td>4</td>\n",
       "      <td>no</td>\n",
       "    </tr>\n",
       "    <tr>\n",
       "      <th>4</th>\n",
       "      <td>ACURA RDX</td>\n",
       "      <td>2.3</td>\n",
       "      <td>4.0</td>\n",
       "      <td>SemiAuto-5</td>\n",
       "      <td>2WD</td>\n",
       "      <td>Gasoline</td>\n",
       "      <td>FA</td>\n",
       "      <td>B5</td>\n",
       "      <td>Federal Tier 2 Bin 5</td>\n",
       "      <td>AHNXT02.3Y19</td>\n",
       "      <td>SUV</td>\n",
       "      <td>6</td>\n",
       "      <td>19</td>\n",
       "      <td>24</td>\n",
       "      <td>21</td>\n",
       "      <td>5</td>\n",
       "      <td>no</td>\n",
       "    </tr>\n",
       "  </tbody>\n",
       "</table>\n",
       "</div>"
      ],
      "text/plain": [
       "       Model  Displ  Cyl       Trans Drive      Fuel Sales Area Stnd  \\\n",
       "0  ACURA MDX    3.7  6.0  SemiAuto-6   4WD  Gasoline         CA   U2   \n",
       "1  ACURA MDX    3.7  6.0  SemiAuto-6   4WD  Gasoline         FA   B5   \n",
       "2  ACURA RDX    2.3  4.0  SemiAuto-5   2WD  Gasoline         CA   U2   \n",
       "3  ACURA RDX    2.3  4.0  SemiAuto-5   4WD  Gasoline         CA   U2   \n",
       "4  ACURA RDX    2.3  4.0  SemiAuto-5   2WD  Gasoline         FA   B5   \n",
       "\n",
       "         Stnd Description  Underhood ID Veh Class Air Pollution Score  \\\n",
       "0  California LEV-II ULEV  AHNXT03.7W19       SUV                   7   \n",
       "1    Federal Tier 2 Bin 5  AHNXT03.7W19       SUV                   6   \n",
       "2  California LEV-II ULEV  AHNXT02.3Y19       SUV                   7   \n",
       "3  California LEV-II ULEV  AHNXT02.3Y19       SUV                   7   \n",
       "4    Federal Tier 2 Bin 5  AHNXT02.3Y19       SUV                   6   \n",
       "\n",
       "  City MPG Hwy MPG Cmb MPG Greenhouse Gas Score SmartWay  \n",
       "0       16      21      18                    4       no  \n",
       "1       16      21      18                    4       no  \n",
       "2       19      24      21                    5       no  \n",
       "3       17      22      19                    4       no  \n",
       "4       19      24      21                    5       no  "
      ]
     },
     "execution_count": 3,
     "metadata": {},
     "output_type": "execute_result"
    }
   ],
   "source": [
    "# view data for 2010\n",
    "\n",
    "data_2010.head()"
   ]
  },
  {
   "cell_type": "code",
   "execution_count": 4,
   "metadata": {},
   "outputs": [
    {
     "data": {
      "text/html": [
       "<div>\n",
       "<style scoped>\n",
       "    .dataframe tbody tr th:only-of-type {\n",
       "        vertical-align: middle;\n",
       "    }\n",
       "\n",
       "    .dataframe tbody tr th {\n",
       "        vertical-align: top;\n",
       "    }\n",
       "\n",
       "    .dataframe thead th {\n",
       "        text-align: right;\n",
       "    }\n",
       "</style>\n",
       "<table border=\"1\" class=\"dataframe\">\n",
       "  <thead>\n",
       "    <tr style=\"text-align: right;\">\n",
       "      <th></th>\n",
       "      <th>Model</th>\n",
       "      <th>Displ</th>\n",
       "      <th>Cyl</th>\n",
       "      <th>Trans</th>\n",
       "      <th>Drive</th>\n",
       "      <th>Fuel</th>\n",
       "      <th>Cert Region</th>\n",
       "      <th>Stnd</th>\n",
       "      <th>Stnd Description</th>\n",
       "      <th>Underhood ID</th>\n",
       "      <th>Veh Class</th>\n",
       "      <th>Air Pollution Score</th>\n",
       "      <th>City MPG</th>\n",
       "      <th>Hwy MPG</th>\n",
       "      <th>Cmb MPG</th>\n",
       "      <th>Greenhouse Gas Score</th>\n",
       "      <th>SmartWay</th>\n",
       "      <th>Comb CO2</th>\n",
       "    </tr>\n",
       "  </thead>\n",
       "  <tbody>\n",
       "    <tr>\n",
       "      <th>0</th>\n",
       "      <td>ACURA ILX</td>\n",
       "      <td>2.4</td>\n",
       "      <td>4.0</td>\n",
       "      <td>AMS-8</td>\n",
       "      <td>2WD</td>\n",
       "      <td>Gasoline</td>\n",
       "      <td>CA</td>\n",
       "      <td>L3ULEV125</td>\n",
       "      <td>California LEV-III ULEV125</td>\n",
       "      <td>LHNXV02.4KH3</td>\n",
       "      <td>small car</td>\n",
       "      <td>3</td>\n",
       "      <td>24</td>\n",
       "      <td>34</td>\n",
       "      <td>28</td>\n",
       "      <td>6</td>\n",
       "      <td>No</td>\n",
       "      <td>316</td>\n",
       "    </tr>\n",
       "    <tr>\n",
       "      <th>1</th>\n",
       "      <td>ACURA ILX</td>\n",
       "      <td>2.4</td>\n",
       "      <td>4.0</td>\n",
       "      <td>AMS-8</td>\n",
       "      <td>2WD</td>\n",
       "      <td>Gasoline</td>\n",
       "      <td>FA</td>\n",
       "      <td>T3B125</td>\n",
       "      <td>Federal Tier 3 Bin 125</td>\n",
       "      <td>LHNXV02.4KH3</td>\n",
       "      <td>small car</td>\n",
       "      <td>3</td>\n",
       "      <td>24</td>\n",
       "      <td>34</td>\n",
       "      <td>28</td>\n",
       "      <td>6</td>\n",
       "      <td>No</td>\n",
       "      <td>316</td>\n",
       "    </tr>\n",
       "    <tr>\n",
       "      <th>2</th>\n",
       "      <td>ACURA MDX</td>\n",
       "      <td>3.0</td>\n",
       "      <td>6.0</td>\n",
       "      <td>AMS-7</td>\n",
       "      <td>4WD</td>\n",
       "      <td>Gasoline</td>\n",
       "      <td>CA</td>\n",
       "      <td>L3ULEV125</td>\n",
       "      <td>California LEV-III ULEV125</td>\n",
       "      <td>LHNXV03.0ABC</td>\n",
       "      <td>small SUV</td>\n",
       "      <td>3</td>\n",
       "      <td>26</td>\n",
       "      <td>27</td>\n",
       "      <td>27</td>\n",
       "      <td>6</td>\n",
       "      <td>No</td>\n",
       "      <td>333</td>\n",
       "    </tr>\n",
       "    <tr>\n",
       "      <th>3</th>\n",
       "      <td>ACURA MDX</td>\n",
       "      <td>3.0</td>\n",
       "      <td>6.0</td>\n",
       "      <td>AMS-7</td>\n",
       "      <td>4WD</td>\n",
       "      <td>Gasoline</td>\n",
       "      <td>FA</td>\n",
       "      <td>T3B125</td>\n",
       "      <td>Federal Tier 3 Bin 125</td>\n",
       "      <td>LHNXV03.0ABC</td>\n",
       "      <td>small SUV</td>\n",
       "      <td>3</td>\n",
       "      <td>26</td>\n",
       "      <td>27</td>\n",
       "      <td>27</td>\n",
       "      <td>6</td>\n",
       "      <td>No</td>\n",
       "      <td>333</td>\n",
       "    </tr>\n",
       "    <tr>\n",
       "      <th>4</th>\n",
       "      <td>ACURA MDX</td>\n",
       "      <td>3.5</td>\n",
       "      <td>6.0</td>\n",
       "      <td>SemiAuto-9</td>\n",
       "      <td>2WD</td>\n",
       "      <td>Gasoline</td>\n",
       "      <td>CA</td>\n",
       "      <td>L3ULEV125</td>\n",
       "      <td>California LEV-III ULEV125</td>\n",
       "      <td>LHNXV03.5PBM</td>\n",
       "      <td>small SUV</td>\n",
       "      <td>3</td>\n",
       "      <td>20</td>\n",
       "      <td>27</td>\n",
       "      <td>23</td>\n",
       "      <td>5</td>\n",
       "      <td>No</td>\n",
       "      <td>387</td>\n",
       "    </tr>\n",
       "  </tbody>\n",
       "</table>\n",
       "</div>"
      ],
      "text/plain": [
       "       Model  Displ  Cyl       Trans Drive      Fuel Cert Region       Stnd  \\\n",
       "0  ACURA ILX    2.4  4.0       AMS-8   2WD  Gasoline          CA  L3ULEV125   \n",
       "1  ACURA ILX    2.4  4.0       AMS-8   2WD  Gasoline          FA     T3B125   \n",
       "2  ACURA MDX    3.0  6.0       AMS-7   4WD  Gasoline          CA  L3ULEV125   \n",
       "3  ACURA MDX    3.0  6.0       AMS-7   4WD  Gasoline          FA     T3B125   \n",
       "4  ACURA MDX    3.5  6.0  SemiAuto-9   2WD  Gasoline          CA  L3ULEV125   \n",
       "\n",
       "             Stnd Description  Underhood ID  Veh Class  Air Pollution Score  \\\n",
       "0  California LEV-III ULEV125  LHNXV02.4KH3  small car                    3   \n",
       "1      Federal Tier 3 Bin 125  LHNXV02.4KH3  small car                    3   \n",
       "2  California LEV-III ULEV125  LHNXV03.0ABC  small SUV                    3   \n",
       "3      Federal Tier 3 Bin 125  LHNXV03.0ABC  small SUV                    3   \n",
       "4  California LEV-III ULEV125  LHNXV03.5PBM  small SUV                    3   \n",
       "\n",
       "  City MPG Hwy MPG Cmb MPG  Greenhouse Gas Score SmartWay Comb CO2  \n",
       "0       24      34      28                     6       No      316  \n",
       "1       24      34      28                     6       No      316  \n",
       "2       26      27      27                     6       No      333  \n",
       "3       26      27      27                     6       No      333  \n",
       "4       20      27      23                     5       No      387  "
      ]
     },
     "execution_count": 4,
     "metadata": {},
     "output_type": "execute_result"
    }
   ],
   "source": [
    "# view data for 2020\n",
    "\n",
    "data_2020.head()"
   ]
  },
  {
   "cell_type": "code",
   "execution_count": 5,
   "metadata": {},
   "outputs": [
    {
     "name": "stdout",
     "output_type": "stream",
     "text": [
      "Index(['Model', 'Displ', 'Cyl', 'Trans', 'Drive', 'Fuel', 'Sales Area', 'Stnd',\n",
      "       'Stnd Description', 'Underhood ID', 'Veh Class', 'Air Pollution Score',\n",
      "       'City MPG', 'Hwy MPG', 'Cmb MPG', 'Greenhouse Gas Score', 'SmartWay'],\n",
      "      dtype='object')\n",
      "Index(['Model', 'Displ', 'Cyl', 'Trans', 'Drive', 'Fuel', 'Cert Region',\n",
      "       'Stnd', 'Stnd Description', 'Underhood ID', 'Veh Class',\n",
      "       'Air Pollution Score', 'City MPG', 'Hwy MPG', 'Cmb MPG',\n",
      "       'Greenhouse Gas Score', 'SmartWay', 'Comb CO2'],\n",
      "      dtype='object')\n"
     ]
    }
   ],
   "source": [
    "# check columns\n",
    "\n",
    "print(data_2010.columns)\n",
    "print(data_2020.columns)"
   ]
  },
  {
   "cell_type": "markdown",
   "metadata": {},
   "source": [
    "#### Few changes have to be made :\n",
    "\n",
    "1. Data set for the year 2010 contains a column 'Sales Area'  and year 2020 contains the column 'Cert Region'. Which are same, after checking the values we should rename either one of them.\n",
    "\n",
    "\n",
    "2. Year 2010 does not contain column 'Comb C02' whereas 2020 does therefor we will remove the column from 2020."
   ]
  },
  {
   "cell_type": "markdown",
   "metadata": {},
   "source": [
    "#### Check columns 'Sales Area' and 'Cert Region'."
   ]
  },
  {
   "cell_type": "code",
   "execution_count": 6,
   "metadata": {},
   "outputs": [
    {
     "data": {
      "text/plain": [
       "FA    1118\n",
       "CA    1041\n",
       "FC     183\n",
       "Name: Sales Area, dtype: int64"
      ]
     },
     "execution_count": 6,
     "metadata": {},
     "output_type": "execute_result"
    }
   ],
   "source": [
    "data_2010['Sales Area'].value_counts()"
   ]
  },
  {
   "cell_type": "code",
   "execution_count": 7,
   "metadata": {},
   "outputs": [
    {
     "data": {
      "text/plain": [
       "CA    1263\n",
       "FA    1260\n",
       "Name: Cert Region, dtype: int64"
      ]
     },
     "execution_count": 7,
     "metadata": {},
     "output_type": "execute_result"
    }
   ],
   "source": [
    "data_2020['Cert Region'].value_counts()"
   ]
  },
  {
   "cell_type": "code",
   "execution_count": 8,
   "metadata": {},
   "outputs": [],
   "source": [
    "data_2010.rename(columns = {'Sales Area':'Cert Region'}, inplace=True)"
   ]
  },
  {
   "cell_type": "markdown",
   "metadata": {},
   "source": [
    "### Drop Extraneous Columns"
   ]
  },
  {
   "cell_type": "code",
   "execution_count": 9,
   "metadata": {},
   "outputs": [],
   "source": [
    "# data set 2010\n",
    "\n",
    "data_2010.drop(['Stnd','Stnd Description','Underhood ID'], axis=1, inplace=True)"
   ]
  },
  {
   "cell_type": "code",
   "execution_count": 10,
   "metadata": {},
   "outputs": [],
   "source": [
    "# data set 2010\n",
    "\n",
    "data_2020.drop(['Stnd','Stnd Description','Underhood ID','Comb CO2'], axis=1, inplace=True)"
   ]
  },
  {
   "cell_type": "code",
   "execution_count": 11,
   "metadata": {},
   "outputs": [
    {
     "data": {
      "text/plain": [
       "True"
      ]
     },
     "execution_count": 11,
     "metadata": {},
     "output_type": "execute_result"
    }
   ],
   "source": [
    "# check weather all columns are same and of same structure\n",
    "\n",
    "(data_2010.columns == data_2020.columns).all()"
   ]
  },
  {
   "cell_type": "markdown",
   "metadata": {},
   "source": [
    "### Rename Columns"
   ]
  },
  {
   "cell_type": "code",
   "execution_count": 12,
   "metadata": {},
   "outputs": [],
   "source": [
    "# replace space with _ and convert all letters to lowercase for ease\n",
    "data_2010.rename(columns =lambda x: x.strip().lower().replace(' ','_'), inplace=True)"
   ]
  },
  {
   "cell_type": "code",
   "execution_count": 13,
   "metadata": {},
   "outputs": [],
   "source": [
    "# replace space with _ and convert all letters to lowercase for ease\n",
    "data_2020.rename(columns =lambda x: x.strip().lower().replace(' ','_'), inplace=True)"
   ]
  },
  {
   "cell_type": "code",
   "execution_count": 14,
   "metadata": {},
   "outputs": [],
   "source": [
    "### Save Data Sets\n",
    "data_2010.to_csv('data/data_10_clean.csv', index=False)\n",
    "data_2020.to_csv('data/data_20_clean.csv', index=False)"
   ]
  },
  {
   "cell_type": "code",
   "execution_count": null,
   "metadata": {},
   "outputs": [],
   "source": []
  },
  {
   "cell_type": "code",
   "execution_count": null,
   "metadata": {},
   "outputs": [],
   "source": []
  },
  {
   "cell_type": "code",
   "execution_count": null,
   "metadata": {},
   "outputs": [],
   "source": []
  }
 ],
 "metadata": {
  "kernelspec": {
   "display_name": "Python 3",
   "language": "python",
   "name": "python3"
  },
  "language_info": {
   "codemirror_mode": {
    "name": "ipython",
    "version": 3
   },
   "file_extension": ".py",
   "mimetype": "text/x-python",
   "name": "python",
   "nbconvert_exporter": "python",
   "pygments_lexer": "ipython3",
   "version": "3.8.5"
  }
 },
 "nbformat": 4,
 "nbformat_minor": 4
}
