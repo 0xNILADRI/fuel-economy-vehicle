{
 "cells": [
  {
   "cell_type": "markdown",
   "metadata": {},
   "source": [
    "# Fuel Economy\n",
    "### Data on Cars used for Testing Fuel Economy\n",
    "<hr>\n",
    "\n",
    "The test data used to determine fuel economy estimates is derived from vehicle testing done at EPA's National Vehicle and Fuel Emissions Laboratory in Ann Arbor, Michigan, and by vehicle manufacturers who submit their own test data to EPA.\n",
    "\n",
    "Each year, EPA provides fuel economy data to the Department of Energy (DOE), the Department of Transportation (DOT) and the Internal Revenue Service (IRS) so that they can administer their fuel economy-related programs.\n",
    "\n",
    "In this scenario we will analyse how the fuel economy has made impact on vehicles after a decade. Therfor we will use the dataset for 2010 and 2020 respectively and analyse how much impact has been done. One of the major concern of recent times is pollution which contributes to environmental degradatation and vehicles adds the most of it. With the steep increase in vehicle buying we need to analyse the economy of vehicles, as the more fuel is burnt the more residue is emmisioned into the atmosphere plus the rapid decrease in non-renuable sources would put a devastation scenario to our future generations.\n",
    "\n",
    "\n",
    "### About the Dataset\n",
    "<hr>\n",
    "\n",
    "Fuel economy data are the result of vehicle testing done at the Environmental Protection Agency's National Vehicle and Fuel Emissions Laboratory in Ann Arbor, Michigan, and by vehicle manufacturers with oversight by EPA.\n",
    "\n",
    "#### Attribute Information\n",
    "\n",
    "The data set comprises of the following features of vehicles and the respective vehicles data points :\n",
    "\n",
    "* Model – vehicle make and model\n",
    "* Displ – engine displacement in liters\n",
    "* Cyl – number of engine cylinders\n",
    "* Trans – transmission type plus number of gears\n",
    "    1. Auto - Automatic\n",
    "    2. Man - Manual\n",
    "    3. SemiAuto - Semi-Automatic\n",
    "    4. SCV - Selectable Continuously Variable (e.g. CVT with paddles)\n",
    "    5. AutoMan - Automated Manual\n",
    "    6. AMS - Automated Manual-Selectable (e.g. Automated Manual with paddles)\n",
    "    7. Other - Other\n",
    "    8. CVT - Continuously Variable\n",
    "    9. CM3 - Creeper/Manual 3-Speed\n",
    "    10. CM4 - Creeper/Manual 4-Speed\n",
    "    11. C4 - Creeper/Manual 4-Speed\n",
    "    12. C5 - Creeper/Manual 5-Speed\n",
    "    13. Auto-S2 - Semi-Automatic 2-Speed\n",
    "    14. Auto-S3 - Semi-Automatic 3-Speed\n",
    "    15. Auto-S4 - Semi-Automatic 4-Speed\n",
    "    16. Auto-S5 - Semi-Automatic 5-Speed\n",
    "    17. Auto-S6 - Semi-Automatic 6-Speed\n",
    "    18. Auto-S7 - Semi-Automatic 7-Speed\n",
    "* Drive – 2-wheel Drive, 4-wheel drive/all-wheel drive\n",
    "* Fuel – fuel(s)\n",
    "* Veh Class – EPA vehicle class. \n",
    "* Air Pollution Score (Smog Rating) \n",
    "* City MPG – city fuel economy in miles per gallon\n",
    "* Hwy MPG – highway fuel economy in miles per gallon\n",
    "* Cmb MPG – combined city/highway fuel economy in miles per gallon\n",
    "* Greenhouse Gas Score (Greenhouse Gas Rating) \n",
    "* SmartWay – Yes, No, or Elite. \n",
    "* Comb CO 2 – combined city/highway CO 2 tailpipe emissions in grams per mile\n",
    "\n",
    "\n",
    "\n"
   ]
  },
  {
   "cell_type": "code",
   "execution_count": 1,
   "metadata": {},
   "outputs": [],
   "source": [
    "# import necessary libraries\n",
    "\n",
    "import numpy as np\n",
    "import pandas as pd"
   ]
  },
  {
   "cell_type": "markdown",
   "metadata": {},
   "source": [
    "## Data Cleaning"
   ]
  },
  {
   "cell_type": "code",
   "execution_count": 2,
   "metadata": {},
   "outputs": [],
   "source": [
    "# import data sets // both 2010 and 2020 economy data\n",
    "\n",
    "data_2010 = pd.read_excel(\"data/all_alpha_10.xls\")\n",
    "data_2020 = pd.read_excel(\"data/all_alpha_20.xlsx\")"
   ]
  },
  {
   "cell_type": "code",
   "execution_count": 3,
   "metadata": {},
   "outputs": [
    {
     "output_type": "execute_result",
     "data": {
      "text/plain": "       Model  Displ  Cyl       Trans Drive      Fuel Sales Area Stnd  \\\n0  ACURA MDX    3.7  6.0  SemiAuto-6   4WD  Gasoline         CA   U2   \n1  ACURA MDX    3.7  6.0  SemiAuto-6   4WD  Gasoline         FA   B5   \n2  ACURA RDX    2.3  4.0  SemiAuto-5   2WD  Gasoline         CA   U2   \n3  ACURA RDX    2.3  4.0  SemiAuto-5   4WD  Gasoline         CA   U2   \n4  ACURA RDX    2.3  4.0  SemiAuto-5   2WD  Gasoline         FA   B5   \n\n         Stnd Description  Underhood ID Veh Class Air Pollution Score  \\\n0  California LEV-II ULEV  AHNXT03.7W19       SUV                   7   \n1    Federal Tier 2 Bin 5  AHNXT03.7W19       SUV                   6   \n2  California LEV-II ULEV  AHNXT02.3Y19       SUV                   7   \n3  California LEV-II ULEV  AHNXT02.3Y19       SUV                   7   \n4    Federal Tier 2 Bin 5  AHNXT02.3Y19       SUV                   6   \n\n  City MPG Hwy MPG Cmb MPG Greenhouse Gas Score SmartWay  \n0       16      21      18                    4       no  \n1       16      21      18                    4       no  \n2       19      24      21                    5       no  \n3       17      22      19                    4       no  \n4       19      24      21                    5       no  ",
      "text/html": "<div>\n<style scoped>\n    .dataframe tbody tr th:only-of-type {\n        vertical-align: middle;\n    }\n\n    .dataframe tbody tr th {\n        vertical-align: top;\n    }\n\n    .dataframe thead th {\n        text-align: right;\n    }\n</style>\n<table border=\"1\" class=\"dataframe\">\n  <thead>\n    <tr style=\"text-align: right;\">\n      <th></th>\n      <th>Model</th>\n      <th>Displ</th>\n      <th>Cyl</th>\n      <th>Trans</th>\n      <th>Drive</th>\n      <th>Fuel</th>\n      <th>Sales Area</th>\n      <th>Stnd</th>\n      <th>Stnd Description</th>\n      <th>Underhood ID</th>\n      <th>Veh Class</th>\n      <th>Air Pollution Score</th>\n      <th>City MPG</th>\n      <th>Hwy MPG</th>\n      <th>Cmb MPG</th>\n      <th>Greenhouse Gas Score</th>\n      <th>SmartWay</th>\n    </tr>\n  </thead>\n  <tbody>\n    <tr>\n      <th>0</th>\n      <td>ACURA MDX</td>\n      <td>3.7</td>\n      <td>6.0</td>\n      <td>SemiAuto-6</td>\n      <td>4WD</td>\n      <td>Gasoline</td>\n      <td>CA</td>\n      <td>U2</td>\n      <td>California LEV-II ULEV</td>\n      <td>AHNXT03.7W19</td>\n      <td>SUV</td>\n      <td>7</td>\n      <td>16</td>\n      <td>21</td>\n      <td>18</td>\n      <td>4</td>\n      <td>no</td>\n    </tr>\n    <tr>\n      <th>1</th>\n      <td>ACURA MDX</td>\n      <td>3.7</td>\n      <td>6.0</td>\n      <td>SemiAuto-6</td>\n      <td>4WD</td>\n      <td>Gasoline</td>\n      <td>FA</td>\n      <td>B5</td>\n      <td>Federal Tier 2 Bin 5</td>\n      <td>AHNXT03.7W19</td>\n      <td>SUV</td>\n      <td>6</td>\n      <td>16</td>\n      <td>21</td>\n      <td>18</td>\n      <td>4</td>\n      <td>no</td>\n    </tr>\n    <tr>\n      <th>2</th>\n      <td>ACURA RDX</td>\n      <td>2.3</td>\n      <td>4.0</td>\n      <td>SemiAuto-5</td>\n      <td>2WD</td>\n      <td>Gasoline</td>\n      <td>CA</td>\n      <td>U2</td>\n      <td>California LEV-II ULEV</td>\n      <td>AHNXT02.3Y19</td>\n      <td>SUV</td>\n      <td>7</td>\n      <td>19</td>\n      <td>24</td>\n      <td>21</td>\n      <td>5</td>\n      <td>no</td>\n    </tr>\n    <tr>\n      <th>3</th>\n      <td>ACURA RDX</td>\n      <td>2.3</td>\n      <td>4.0</td>\n      <td>SemiAuto-5</td>\n      <td>4WD</td>\n      <td>Gasoline</td>\n      <td>CA</td>\n      <td>U2</td>\n      <td>California LEV-II ULEV</td>\n      <td>AHNXT02.3Y19</td>\n      <td>SUV</td>\n      <td>7</td>\n      <td>17</td>\n      <td>22</td>\n      <td>19</td>\n      <td>4</td>\n      <td>no</td>\n    </tr>\n    <tr>\n      <th>4</th>\n      <td>ACURA RDX</td>\n      <td>2.3</td>\n      <td>4.0</td>\n      <td>SemiAuto-5</td>\n      <td>2WD</td>\n      <td>Gasoline</td>\n      <td>FA</td>\n      <td>B5</td>\n      <td>Federal Tier 2 Bin 5</td>\n      <td>AHNXT02.3Y19</td>\n      <td>SUV</td>\n      <td>6</td>\n      <td>19</td>\n      <td>24</td>\n      <td>21</td>\n      <td>5</td>\n      <td>no</td>\n    </tr>\n  </tbody>\n</table>\n</div>"
     },
     "metadata": {},
     "execution_count": 3
    }
   ],
   "source": [
    "# view data for 2010\n",
    "\n",
    "data_2010.head()"
   ]
  },
  {
   "cell_type": "code",
   "execution_count": 4,
   "metadata": {},
   "outputs": [
    {
     "output_type": "execute_result",
     "data": {
      "text/plain": "       Model  Displ  Cyl       Trans Drive      Fuel Cert Region       Stnd  \\\n0  ACURA ILX    2.4  4.0       AMS-8   2WD  Gasoline          CA  L3ULEV125   \n1  ACURA ILX    2.4  4.0       AMS-8   2WD  Gasoline          FA     T3B125   \n2  ACURA MDX    3.0  6.0       AMS-7   4WD  Gasoline          CA  L3ULEV125   \n3  ACURA MDX    3.0  6.0       AMS-7   4WD  Gasoline          FA     T3B125   \n4  ACURA MDX    3.5  6.0  SemiAuto-9   2WD  Gasoline          CA  L3ULEV125   \n\n             Stnd Description  Underhood ID  Veh Class  Air Pollution Score  \\\n0  California LEV-III ULEV125  LHNXV02.4KH3  small car                    3   \n1      Federal Tier 3 Bin 125  LHNXV02.4KH3  small car                    3   \n2  California LEV-III ULEV125  LHNXV03.0ABC  small SUV                    3   \n3      Federal Tier 3 Bin 125  LHNXV03.0ABC  small SUV                    3   \n4  California LEV-III ULEV125  LHNXV03.5PBM  small SUV                    3   \n\n  City MPG Hwy MPG Cmb MPG  Greenhouse Gas Score SmartWay Comb CO2  \n0       24      34      28                     6       No      316  \n1       24      34      28                     6       No      316  \n2       26      27      27                     6       No      333  \n3       26      27      27                     6       No      333  \n4       20      27      23                     5       No      387  ",
      "text/html": "<div>\n<style scoped>\n    .dataframe tbody tr th:only-of-type {\n        vertical-align: middle;\n    }\n\n    .dataframe tbody tr th {\n        vertical-align: top;\n    }\n\n    .dataframe thead th {\n        text-align: right;\n    }\n</style>\n<table border=\"1\" class=\"dataframe\">\n  <thead>\n    <tr style=\"text-align: right;\">\n      <th></th>\n      <th>Model</th>\n      <th>Displ</th>\n      <th>Cyl</th>\n      <th>Trans</th>\n      <th>Drive</th>\n      <th>Fuel</th>\n      <th>Cert Region</th>\n      <th>Stnd</th>\n      <th>Stnd Description</th>\n      <th>Underhood ID</th>\n      <th>Veh Class</th>\n      <th>Air Pollution Score</th>\n      <th>City MPG</th>\n      <th>Hwy MPG</th>\n      <th>Cmb MPG</th>\n      <th>Greenhouse Gas Score</th>\n      <th>SmartWay</th>\n      <th>Comb CO2</th>\n    </tr>\n  </thead>\n  <tbody>\n    <tr>\n      <th>0</th>\n      <td>ACURA ILX</td>\n      <td>2.4</td>\n      <td>4.0</td>\n      <td>AMS-8</td>\n      <td>2WD</td>\n      <td>Gasoline</td>\n      <td>CA</td>\n      <td>L3ULEV125</td>\n      <td>California LEV-III ULEV125</td>\n      <td>LHNXV02.4KH3</td>\n      <td>small car</td>\n      <td>3</td>\n      <td>24</td>\n      <td>34</td>\n      <td>28</td>\n      <td>6</td>\n      <td>No</td>\n      <td>316</td>\n    </tr>\n    <tr>\n      <th>1</th>\n      <td>ACURA ILX</td>\n      <td>2.4</td>\n      <td>4.0</td>\n      <td>AMS-8</td>\n      <td>2WD</td>\n      <td>Gasoline</td>\n      <td>FA</td>\n      <td>T3B125</td>\n      <td>Federal Tier 3 Bin 125</td>\n      <td>LHNXV02.4KH3</td>\n      <td>small car</td>\n      <td>3</td>\n      <td>24</td>\n      <td>34</td>\n      <td>28</td>\n      <td>6</td>\n      <td>No</td>\n      <td>316</td>\n    </tr>\n    <tr>\n      <th>2</th>\n      <td>ACURA MDX</td>\n      <td>3.0</td>\n      <td>6.0</td>\n      <td>AMS-7</td>\n      <td>4WD</td>\n      <td>Gasoline</td>\n      <td>CA</td>\n      <td>L3ULEV125</td>\n      <td>California LEV-III ULEV125</td>\n      <td>LHNXV03.0ABC</td>\n      <td>small SUV</td>\n      <td>3</td>\n      <td>26</td>\n      <td>27</td>\n      <td>27</td>\n      <td>6</td>\n      <td>No</td>\n      <td>333</td>\n    </tr>\n    <tr>\n      <th>3</th>\n      <td>ACURA MDX</td>\n      <td>3.0</td>\n      <td>6.0</td>\n      <td>AMS-7</td>\n      <td>4WD</td>\n      <td>Gasoline</td>\n      <td>FA</td>\n      <td>T3B125</td>\n      <td>Federal Tier 3 Bin 125</td>\n      <td>LHNXV03.0ABC</td>\n      <td>small SUV</td>\n      <td>3</td>\n      <td>26</td>\n      <td>27</td>\n      <td>27</td>\n      <td>6</td>\n      <td>No</td>\n      <td>333</td>\n    </tr>\n    <tr>\n      <th>4</th>\n      <td>ACURA MDX</td>\n      <td>3.5</td>\n      <td>6.0</td>\n      <td>SemiAuto-9</td>\n      <td>2WD</td>\n      <td>Gasoline</td>\n      <td>CA</td>\n      <td>L3ULEV125</td>\n      <td>California LEV-III ULEV125</td>\n      <td>LHNXV03.5PBM</td>\n      <td>small SUV</td>\n      <td>3</td>\n      <td>20</td>\n      <td>27</td>\n      <td>23</td>\n      <td>5</td>\n      <td>No</td>\n      <td>387</td>\n    </tr>\n  </tbody>\n</table>\n</div>"
     },
     "metadata": {},
     "execution_count": 4
    }
   ],
   "source": [
    "# view data for 2020\n",
    "\n",
    "data_2020.head()"
   ]
  },
  {
   "cell_type": "code",
   "execution_count": 5,
   "metadata": {
    "tags": []
   },
   "outputs": [
    {
     "output_type": "stream",
     "name": "stdout",
     "text": "(2342, 17)\n(2523, 18)\n"
    }
   ],
   "source": [
    "# check shape od data set\n",
    "print(data_2010.shape)\n",
    "print(data_2020.shape)"
   ]
  },
  {
   "cell_type": "code",
   "execution_count": 6,
   "metadata": {
    "tags": []
   },
   "outputs": [
    {
     "output_type": "stream",
     "name": "stdout",
     "text": "Index(['Model', 'Displ', 'Cyl', 'Trans', 'Drive', 'Fuel', 'Sales Area', 'Stnd',\n       'Stnd Description', 'Underhood ID', 'Veh Class', 'Air Pollution Score',\n       'City MPG', 'Hwy MPG', 'Cmb MPG', 'Greenhouse Gas Score', 'SmartWay'],\n      dtype='object')\nIndex(['Model', 'Displ', 'Cyl', 'Trans', 'Drive', 'Fuel', 'Cert Region',\n       'Stnd', 'Stnd Description', 'Underhood ID', 'Veh Class',\n       'Air Pollution Score', 'City MPG', 'Hwy MPG', 'Cmb MPG',\n       'Greenhouse Gas Score', 'SmartWay', 'Comb CO2'],\n      dtype='object')\n"
    }
   ],
   "source": [
    "# check columns\n",
    "\n",
    "print(data_2010.columns)\n",
    "print(data_2020.columns)"
   ]
  },
  {
   "cell_type": "markdown",
   "metadata": {},
   "source": [
    "#### Few changes have to be made :\n",
    "\n",
    "1. Data set for the year 2010 contains a column 'Sales Area'  and year 2020 contains the column 'Cert Region'. Which are same, after checking the values we should rename either one of them.\n",
    "\n",
    "\n",
    "2. Year 2010 does not contain column 'Comb C02' whereas 2020 does therefor we will remove the column from 2020."
   ]
  },
  {
   "cell_type": "markdown",
   "metadata": {},
   "source": [
    "#### Check columns 'Sales Area' and 'Cert Region'."
   ]
  },
  {
   "cell_type": "code",
   "execution_count": 7,
   "metadata": {},
   "outputs": [
    {
     "output_type": "execute_result",
     "data": {
      "text/plain": "FA    1118\nCA    1041\nFC     183\nName: Sales Area, dtype: int64"
     },
     "metadata": {},
     "execution_count": 7
    }
   ],
   "source": [
    "data_2010['Sales Area'].value_counts()"
   ]
  },
  {
   "cell_type": "code",
   "execution_count": 8,
   "metadata": {},
   "outputs": [
    {
     "output_type": "execute_result",
     "data": {
      "text/plain": "CA    1263\nFA    1260\nName: Cert Region, dtype: int64"
     },
     "metadata": {},
     "execution_count": 8
    }
   ],
   "source": [
    "data_2020['Cert Region'].value_counts()"
   ]
  },
  {
   "cell_type": "markdown",
   "metadata": {},
   "source": [
    "### Drop Extraneous Columns"
   ]
  },
  {
   "cell_type": "code",
   "execution_count": 9,
   "metadata": {},
   "outputs": [],
   "source": [
    "# data set 2010\n",
    "\n",
    "data_2010.drop(['Stnd','Sales Area','Stnd Description','Underhood ID'], axis=1, inplace=True)"
   ]
  },
  {
   "cell_type": "code",
   "execution_count": 10,
   "metadata": {},
   "outputs": [],
   "source": [
    "# data set 2010\n",
    "\n",
    "data_2020.drop(['Stnd','Cert Region','Stnd Description','Underhood ID','Comb CO2'], axis=1, inplace=True)"
   ]
  },
  {
   "cell_type": "code",
   "execution_count": 11,
   "metadata": {},
   "outputs": [
    {
     "output_type": "execute_result",
     "data": {
      "text/plain": "True"
     },
     "metadata": {},
     "execution_count": 11
    }
   ],
   "source": [
    "# check weather all columns are same and of same structure\n",
    "\n",
    "(data_2010.columns == data_2020.columns).all()"
   ]
  },
  {
   "cell_type": "markdown",
   "metadata": {},
   "source": [
    "### Rename Columns"
   ]
  },
  {
   "cell_type": "code",
   "execution_count": 12,
   "metadata": {},
   "outputs": [],
   "source": [
    "# replace space with _ and convert all letters to lowercase for ease\n",
    "data_2010.rename(columns =lambda x: x.strip().lower().replace(' ','_'), inplace=True)"
   ]
  },
  {
   "cell_type": "code",
   "execution_count": 13,
   "metadata": {},
   "outputs": [],
   "source": [
    "# replace space with _ and convert all letters to lowercase for ease\n",
    "data_2020.rename(columns =lambda x: x.strip().lower().replace(' ','_'), inplace=True)"
   ]
  },
  {
   "cell_type": "markdown",
   "metadata": {},
   "source": [
    "### Drop rows with missing values"
   ]
  },
  {
   "cell_type": "code",
   "execution_count": 14,
   "metadata": {},
   "outputs": [
    {
     "output_type": "execute_result",
     "data": {
      "text/plain": "model                     0\ndispl                     4\ncyl                       4\ntrans                     0\ndrive                     0\nfuel                      0\nveh_class                 0\nair_pollution_score       0\ncity_mpg                181\nhwy_mpg                 181\ncmb_mpg                 181\ngreenhouse_gas_score    179\nsmartway                  0\ndtype: int64"
     },
     "metadata": {},
     "execution_count": 14
    }
   ],
   "source": [
    "# view missing value count for each feature in 2010\n",
    "data_2010.isnull().sum()"
   ]
  },
  {
   "cell_type": "code",
   "execution_count": 15,
   "metadata": {},
   "outputs": [
    {
     "output_type": "execute_result",
     "data": {
      "text/plain": "model                    0\ndispl                   81\ncyl                     81\ntrans                    0\ndrive                    0\nfuel                     0\nveh_class                0\nair_pollution_score      0\ncity_mpg                 0\nhwy_mpg                  0\ncmb_mpg                  0\ngreenhouse_gas_score     0\nsmartway                 0\ndtype: int64"
     },
     "metadata": {},
     "execution_count": 15
    }
   ],
   "source": [
    "# view missing value count for each feature in 2020\n",
    "data_2020.isnull().sum()"
   ]
  },
  {
   "cell_type": "code",
   "execution_count": 16,
   "metadata": {},
   "outputs": [],
   "source": [
    "# drop values\n",
    "data_2010.dropna(inplace=True)\n",
    "data_2020.dropna(inplace=True)"
   ]
  },
  {
   "cell_type": "code",
   "execution_count": 17,
   "metadata": {},
   "outputs": [
    {
     "output_type": "execute_result",
     "data": {
      "text/plain": "False"
     },
     "metadata": {},
     "execution_count": 17
    }
   ],
   "source": [
    "# check if any column in data 2010 and 2020 has null data\n",
    "data_2010.isnull().sum().any()\n",
    "data_2020.isnull().sum().any()"
   ]
  },
  {
   "cell_type": "markdown",
   "metadata": {},
   "source": [
    "### Dedupe Data"
   ]
  },
  {
   "cell_type": "code",
   "execution_count": 18,
   "metadata": {},
   "outputs": [],
   "source": [
    "# drop duplicates in both the datasets\n",
    "data_2010.drop_duplicates(inplace=True)\n",
    "data_2020.drop_duplicates(inplace=True)"
   ]
  },
  {
   "cell_type": "code",
   "execution_count": 19,
   "metadata": {
    "tags": []
   },
   "outputs": [
    {
     "output_type": "stream",
     "name": "stdout",
     "text": "0\n0\n"
    }
   ],
   "source": [
    "# print number of duplicates again to confirm dedupe - should both be 0\n",
    "print(data_2010.duplicated().sum())\n",
    "print(data_2020.duplicated().sum())"
   ]
  },
  {
   "cell_type": "markdown",
   "metadata": {},
   "source": [
    "### Fixing Data Types"
   ]
  },
  {
   "cell_type": "code",
   "execution_count": 20,
   "metadata": {
    "tags": []
   },
   "outputs": [
    {
     "output_type": "stream",
     "name": "stdout",
     "text": "<class 'pandas.core.frame.DataFrame'>\nInt64Index: 1724 entries, 0 to 2341\nData columns (total 13 columns):\n #   Column                Non-Null Count  Dtype  \n---  ------                --------------  -----  \n 0   model                 1724 non-null   object \n 1   displ                 1724 non-null   float64\n 2   cyl                   1724 non-null   float64\n 3   trans                 1724 non-null   object \n 4   drive                 1724 non-null   object \n 5   fuel                  1724 non-null   object \n 6   veh_class             1724 non-null   object \n 7   air_pollution_score   1724 non-null   object \n 8   city_mpg              1724 non-null   object \n 9   hwy_mpg               1724 non-null   object \n 10  cmb_mpg               1724 non-null   object \n 11  greenhouse_gas_score  1724 non-null   object \n 12  smartway              1724 non-null   object \ndtypes: float64(2), object(11)\nmemory usage: 188.6+ KB\nNone\n<class 'pandas.core.frame.DataFrame'>\nInt64Index: 1223 entries, 0 to 2521\nData columns (total 13 columns):\n #   Column                Non-Null Count  Dtype  \n---  ------                --------------  -----  \n 0   model                 1223 non-null   object \n 1   displ                 1223 non-null   float64\n 2   cyl                   1223 non-null   float64\n 3   trans                 1223 non-null   object \n 4   drive                 1223 non-null   object \n 5   fuel                  1223 non-null   object \n 6   veh_class             1223 non-null   object \n 7   air_pollution_score   1223 non-null   int64  \n 8   city_mpg              1223 non-null   object \n 9   hwy_mpg               1223 non-null   object \n 10  cmb_mpg               1223 non-null   object \n 11  greenhouse_gas_score  1223 non-null   int64  \n 12  smartway              1223 non-null   object \ndtypes: float64(2), int64(2), object(9)\nmemory usage: 133.8+ KB\nNone\n"
    }
   ],
   "source": [
    "# check data type for each columns\n",
    "print(data_2010.info())\n",
    "print(data_2020.info())"
   ]
  },
  {
   "cell_type": "code",
   "execution_count": 21,
   "metadata": {},
   "outputs": [
    {
     "output_type": "execute_result",
     "data": {
      "text/plain": "103"
     },
     "metadata": {},
     "execution_count": 21
    }
   ],
   "source": [
    "# check for data containing / in 2010\n",
    "data_2010.fuel.str.contains('/').sum()"
   ]
  },
  {
   "cell_type": "code",
   "execution_count": 22,
   "metadata": {},
   "outputs": [
    {
     "output_type": "execute_result",
     "data": {
      "text/plain": "68"
     },
     "metadata": {},
     "execution_count": 22
    }
   ],
   "source": [
    "# check for data containing / in 2020\n",
    "data_2020.fuel.str.contains('/').sum()"
   ]
  },
  {
   "cell_type": "markdown",
   "metadata": {},
   "source": [
    "#### Observation\n",
    "\n",
    "* We found that ___2010__ dataset contains __103__ and __2020__ dataset contains __134 hybrid vehicles__."
   ]
  },
  {
   "cell_type": "code",
   "execution_count": 23,
   "metadata": {},
   "outputs": [],
   "source": [
    "def change_dtype_intfloat(df,inputcolumns):\n",
    "    '''\n",
    "\n",
    "    Author : Niladri Ghosh\n",
    "    Email : niladri1406@gmail.com\n",
    "\n",
    "\n",
    "    The function takes in a single input, a list, which contains the columns names for the data set.\n",
    "    Then the funtion makes two copies of dataframe since there are hybrid vehicles present in the \n",
    "    dataset, thus the data points contains a \"/\" to differentiate the values for each model. So we \n",
    "    copy two portions to different data frames by splitting it using \"/\". Finally combining both the\n",
    "     data frames and convert each column to int respectively.\n",
    "\n",
    "\n",
    "    '''\n",
    "    # data frame for hybrid vehicles\n",
    "    df_hb = df[df['fuel'].str.contains('/')]\n",
    "    \n",
    "    # create two copies\n",
    "    df1 = df_hb.copy()\n",
    "    df2 = df_hb.copy()\n",
    "    \n",
    "    inputcolumns = inputcolumns + ['fuel']\n",
    "    \n",
    "    for x in inputcolumns:\n",
    "        \n",
    "        df1[x] = df1[x].apply(lambda y: y.split(\"/\")[0])\n",
    "        df2[x] = df2[x].apply(lambda y: y.split(\"/\")[1])\n",
    "    \n",
    "    # combine two data frames \n",
    "    new_df = df1.append(df2)\n",
    "        \n",
    "    # drop hybrid data drom original data frame\n",
    "    df.drop(df_hb.index, inplace=True)\n",
    "    \n",
    "    # add new data frame to original data frame\n",
    "    df = df.append(new_df, ignore_index=True)\n",
    "    \n",
    "    inputcolumns.remove('fuel')\n",
    "    \n",
    "    # change data type of columns\n",
    "    for x in inputcolumns:\n",
    "        try:\n",
    "            df[x] = df[x].str.extract('(\\d+)').astype(int)\n",
    "        except:\n",
    "            df[x] = df[x].str.extract('(\\d+)').astype(float)\n",
    "    \n",
    "    return df"
   ]
  },
  {
   "cell_type": "code",
   "execution_count": 24,
   "metadata": {},
   "outputs": [],
   "source": [
    "# convert column to int and float accordingly for 2010\n",
    "ch_data_10 = ['air_pollution_score','city_mpg','hwy_mpg','cmb_mpg','greenhouse_gas_score']\n",
    "df_2010 = change_dtype_intfloat(data_2010,ch_data_10)"
   ]
  },
  {
   "cell_type": "code",
   "execution_count": 25,
   "metadata": {
    "tags": []
   },
   "outputs": [
    {
     "output_type": "stream",
     "name": "stdout",
     "text": "<class 'pandas.core.frame.DataFrame'>\nRangeIndex: 1827 entries, 0 to 1826\nData columns (total 13 columns):\n #   Column                Non-Null Count  Dtype  \n---  ------                --------------  -----  \n 0   model                 1827 non-null   object \n 1   displ                 1827 non-null   float64\n 2   cyl                   1827 non-null   float64\n 3   trans                 1827 non-null   object \n 4   drive                 1827 non-null   object \n 5   fuel                  1827 non-null   object \n 6   veh_class             1827 non-null   object \n 7   air_pollution_score   1818 non-null   float64\n 8   city_mpg              1827 non-null   int64  \n 9   hwy_mpg               1827 non-null   int64  \n 10  cmb_mpg               1827 non-null   int64  \n 11  greenhouse_gas_score  1818 non-null   float64\n 12  smartway              1827 non-null   object \ndtypes: float64(4), int64(3), object(6)\nmemory usage: 185.7+ KB\n"
    }
   ],
   "source": [
    "df_2010.info()"
   ]
  },
  {
   "cell_type": "code",
   "execution_count": 26,
   "metadata": {},
   "outputs": [
    {
     "output_type": "execute_result",
     "data": {
      "text/plain": "                            model  displ  cyl       trans drive    fuel  \\\n36                        AUDI A3    2.0  4.0  SemiAuto-6   2WD  Diesel   \n69                        AUDI Q7    3.0  6.0  SemiAuto-6   4WD  Diesel   \n1502              VOLKSWAGEN Golf    2.0  4.0       Man-6   2WD  Diesel   \n1503              VOLKSWAGEN Golf    2.0  4.0  SemiAuto-6   2WD  Diesel   \n1518             VOLKSWAGEN Jetta    2.0  4.0       Man-6   2WD  Diesel   \n1519             VOLKSWAGEN Jetta    2.0  4.0  SemiAuto-6   2WD  Diesel   \n1526  VOLKSWAGEN Jetta SportWagen    2.0  4.0       Man-6   2WD  Diesel   \n1527  VOLKSWAGEN Jetta SportWagen    2.0  4.0  SemiAuto-6   2WD  Diesel   \n1554           VOLKSWAGEN Touareg    3.0  6.0  SemiAuto-6   4WD  Diesel   \n\n          veh_class  air_pollution_score  city_mpg  hwy_mpg  cmb_mpg  \\\n36    station wagon                  NaN        29       37       32   \n69              SUV                  NaN        17       24       20   \n1502      small car                  NaN        29       39       32   \n1503      small car                  NaN        29       37       32   \n1518      small car                  NaN        29       39       32   \n1519      small car                  NaN        29       37       32   \n1526  station wagon                  NaN        29       39       32   \n1527  station wagon                  NaN        29       37       32   \n1554            SUV                  NaN        18       24       20   \n\n      greenhouse_gas_score smartway  \n36                     NaN      yes  \n69                     NaN       no  \n1502                   NaN      yes  \n1503                   NaN      yes  \n1518                   NaN      yes  \n1519                   NaN      yes  \n1526                   NaN      yes  \n1527                   NaN      yes  \n1554                   NaN       no  ",
      "text/html": "<div>\n<style scoped>\n    .dataframe tbody tr th:only-of-type {\n        vertical-align: middle;\n    }\n\n    .dataframe tbody tr th {\n        vertical-align: top;\n    }\n\n    .dataframe thead th {\n        text-align: right;\n    }\n</style>\n<table border=\"1\" class=\"dataframe\">\n  <thead>\n    <tr style=\"text-align: right;\">\n      <th></th>\n      <th>model</th>\n      <th>displ</th>\n      <th>cyl</th>\n      <th>trans</th>\n      <th>drive</th>\n      <th>fuel</th>\n      <th>veh_class</th>\n      <th>air_pollution_score</th>\n      <th>city_mpg</th>\n      <th>hwy_mpg</th>\n      <th>cmb_mpg</th>\n      <th>greenhouse_gas_score</th>\n      <th>smartway</th>\n    </tr>\n  </thead>\n  <tbody>\n    <tr>\n      <th>36</th>\n      <td>AUDI A3</td>\n      <td>2.0</td>\n      <td>4.0</td>\n      <td>SemiAuto-6</td>\n      <td>2WD</td>\n      <td>Diesel</td>\n      <td>station wagon</td>\n      <td>NaN</td>\n      <td>29</td>\n      <td>37</td>\n      <td>32</td>\n      <td>NaN</td>\n      <td>yes</td>\n    </tr>\n    <tr>\n      <th>69</th>\n      <td>AUDI Q7</td>\n      <td>3.0</td>\n      <td>6.0</td>\n      <td>SemiAuto-6</td>\n      <td>4WD</td>\n      <td>Diesel</td>\n      <td>SUV</td>\n      <td>NaN</td>\n      <td>17</td>\n      <td>24</td>\n      <td>20</td>\n      <td>NaN</td>\n      <td>no</td>\n    </tr>\n    <tr>\n      <th>1502</th>\n      <td>VOLKSWAGEN Golf</td>\n      <td>2.0</td>\n      <td>4.0</td>\n      <td>Man-6</td>\n      <td>2WD</td>\n      <td>Diesel</td>\n      <td>small car</td>\n      <td>NaN</td>\n      <td>29</td>\n      <td>39</td>\n      <td>32</td>\n      <td>NaN</td>\n      <td>yes</td>\n    </tr>\n    <tr>\n      <th>1503</th>\n      <td>VOLKSWAGEN Golf</td>\n      <td>2.0</td>\n      <td>4.0</td>\n      <td>SemiAuto-6</td>\n      <td>2WD</td>\n      <td>Diesel</td>\n      <td>small car</td>\n      <td>NaN</td>\n      <td>29</td>\n      <td>37</td>\n      <td>32</td>\n      <td>NaN</td>\n      <td>yes</td>\n    </tr>\n    <tr>\n      <th>1518</th>\n      <td>VOLKSWAGEN Jetta</td>\n      <td>2.0</td>\n      <td>4.0</td>\n      <td>Man-6</td>\n      <td>2WD</td>\n      <td>Diesel</td>\n      <td>small car</td>\n      <td>NaN</td>\n      <td>29</td>\n      <td>39</td>\n      <td>32</td>\n      <td>NaN</td>\n      <td>yes</td>\n    </tr>\n    <tr>\n      <th>1519</th>\n      <td>VOLKSWAGEN Jetta</td>\n      <td>2.0</td>\n      <td>4.0</td>\n      <td>SemiAuto-6</td>\n      <td>2WD</td>\n      <td>Diesel</td>\n      <td>small car</td>\n      <td>NaN</td>\n      <td>29</td>\n      <td>37</td>\n      <td>32</td>\n      <td>NaN</td>\n      <td>yes</td>\n    </tr>\n    <tr>\n      <th>1526</th>\n      <td>VOLKSWAGEN Jetta SportWagen</td>\n      <td>2.0</td>\n      <td>4.0</td>\n      <td>Man-6</td>\n      <td>2WD</td>\n      <td>Diesel</td>\n      <td>station wagon</td>\n      <td>NaN</td>\n      <td>29</td>\n      <td>39</td>\n      <td>32</td>\n      <td>NaN</td>\n      <td>yes</td>\n    </tr>\n    <tr>\n      <th>1527</th>\n      <td>VOLKSWAGEN Jetta SportWagen</td>\n      <td>2.0</td>\n      <td>4.0</td>\n      <td>SemiAuto-6</td>\n      <td>2WD</td>\n      <td>Diesel</td>\n      <td>station wagon</td>\n      <td>NaN</td>\n      <td>29</td>\n      <td>37</td>\n      <td>32</td>\n      <td>NaN</td>\n      <td>yes</td>\n    </tr>\n    <tr>\n      <th>1554</th>\n      <td>VOLKSWAGEN Touareg</td>\n      <td>3.0</td>\n      <td>6.0</td>\n      <td>SemiAuto-6</td>\n      <td>4WD</td>\n      <td>Diesel</td>\n      <td>SUV</td>\n      <td>NaN</td>\n      <td>18</td>\n      <td>24</td>\n      <td>20</td>\n      <td>NaN</td>\n      <td>no</td>\n    </tr>\n  </tbody>\n</table>\n</div>"
     },
     "metadata": {},
     "execution_count": 26
    }
   ],
   "source": [
    "df_2010[df_2010['air_pollution_score'].isna()==True]"
   ]
  },
  {
   "cell_type": "markdown",
   "metadata": {},
   "source": [
    "#### Since few of the columns contained \"mod / modified\" unkown parameter data, we would remove them."
   ]
  },
  {
   "cell_type": "code",
   "execution_count": 27,
   "metadata": {},
   "outputs": [],
   "source": [
    "# remove values\n",
    "df_2010.dropna(inplace=True)"
   ]
  },
  {
   "cell_type": "code",
   "execution_count": 28,
   "metadata": {},
   "outputs": [],
   "source": [
    "# convert column to int and float accordingly for 2010\n",
    "ch_data_20 = ['city_mpg','hwy_mpg','cmb_mpg']\n",
    "df_2020 = change_dtype_intfloat(data_2020,ch_data_20)"
   ]
  },
  {
   "cell_type": "code",
   "execution_count": 29,
   "metadata": {
    "tags": []
   },
   "outputs": [
    {
     "output_type": "stream",
     "name": "stdout",
     "text": "<class 'pandas.core.frame.DataFrame'>\nRangeIndex: 1291 entries, 0 to 1290\nData columns (total 13 columns):\n #   Column                Non-Null Count  Dtype  \n---  ------                --------------  -----  \n 0   model                 1291 non-null   object \n 1   displ                 1291 non-null   float64\n 2   cyl                   1291 non-null   float64\n 3   trans                 1291 non-null   object \n 4   drive                 1291 non-null   object \n 5   fuel                  1291 non-null   object \n 6   veh_class             1291 non-null   object \n 7   air_pollution_score   1291 non-null   int64  \n 8   city_mpg              1291 non-null   int64  \n 9   hwy_mpg               1291 non-null   int64  \n 10  cmb_mpg               1291 non-null   int64  \n 11  greenhouse_gas_score  1291 non-null   int64  \n 12  smartway              1291 non-null   object \ndtypes: float64(2), int64(5), object(6)\nmemory usage: 131.2+ KB\n"
    }
   ],
   "source": [
    "# check data \n",
    "df_2020.info()"
   ]
  },
  {
   "cell_type": "markdown",
   "metadata": {},
   "source": [
    "## Save cleaned data"
   ]
  },
  {
   "cell_type": "code",
   "execution_count": 30,
   "metadata": {},
   "outputs": [],
   "source": [
    "### Save Data Sets\n",
    "df_2010.to_csv('data/data_2010_v1.csv', index=False)\n",
    "df_2020.to_csv('data/data_2020_v1.csv', index=False)"
   ]
  }
 ],
 "metadata": {
  "kernelspec": {
   "display_name": "Python 3",
   "language": "python",
   "name": "python3"
  },
  "language_info": {
   "codemirror_mode": {
    "name": "ipython",
    "version": 3
   },
   "file_extension": ".py",
   "mimetype": "text/x-python",
   "name": "python",
   "nbconvert_exporter": "python",
   "pygments_lexer": "ipython3",
   "version": "3.8.3-final"
  }
 },
 "nbformat": 4,
 "nbformat_minor": 4
}